{
 "cells": [
  {
   "cell_type": "markdown",
   "metadata": {},
   "source": [
    "# 🌌 Gravitational Dynamics: Analyzing Kepler’s Third Law 🌌\n",
    "\n",
    "---\n",
    "\n",
    "## 🎯 Objective\n",
    "This notebook investigates the relationship between orbital period and radius through Kepler’s Third Law for circular orbits. It includes a derivation, computational simulation, and analysis of real-world astronomical data. \n",
    "\n",
    "---\n",
    "\n",
    "## 🚀 Derivation: Establishing Kepler’s Third Law\n",
    "For a body in a circular orbit, the gravitational force balances the centripetal force required for circular motion:\n",
    "\n",
    "- **Gravitational Force**: $F_g = \\frac{G M m}{r^2}$\n",
    "- **Centripetal Force**: $F_c = \\frac{m v^2}{r}$\n",
    "\n",
    "Equating these forces:  \n",
    "$$ \\frac{G M m}{r^2} = \\frac{m v^2}{r} $$  \n",
    "Cancel $m$ (mass of the orbiting body) and simplify:  \n",
    "$$ v^2 = \\frac{G M}{r} $$\n",
    "\n",
    "The orbital velocity is $v = \\frac{2\\pi r}{T}$, where $T$ is the orbital period. Substituting:  \n",
    "$$ \\left(\\frac{2\\pi r}{T}\\right)^2 = \\frac{G M}{r} $$  \n",
    "$$ \\frac{4\\pi^2 r^2}{T^2} = \\frac{G M}{r} $$  \n",
    "Rearrange by multiplying both sides by $T^2$ and dividing by $r$:  \n",
    "$$ T^2 = \\frac{4\\pi^2}{G M} r^3 $$  \n",
    "\n",
    "This yields $T^2 \\propto r^3$, demonstrating that the square of the orbital period is proportional to the cube of the orbital radius, a cornerstone of Kepler’s Third Law.\n",
    "\n",
    "---\n",
    "\n",
    "## 🌍 Astronomical Significance\n",
    "Kepler’s Third Law has profound implications:\n",
    "1. **Mass Determination**: Using $T$ and $r$, the central body’s mass $M$ can be calculated (e.g., Earth’s mass from the Moon’s orbit).\n",
    "2. **Distance Measurement**: Orbital periods of planets provide their distances from the Sun.\n",
    "3. **Orbital Engineering**: This relationship informs the design of satellite trajectories, such as those for navigation systems.\n",
    "\n",
    "---\n",
    "\n",
    "## 📊 Computational Analysis\n",
    "This section implements a simulation to verify Kepler’s Third Law using real-world data and visualizations.\n",
    "\n",
    "---\n",
    "\n",
    "### Step 1: Orbital Data\n",
    "This step presents the orbital parameters for the Moon and select Solar System planets, including their central masses, orbital radii, and periods. The Moon orbits Earth, while Earth, Mars, and Jupiter orbit the Sun, providing a range of scales to test Kepler’s Third Law. The data will serve as the foundation for verifying the $T^2 \\propto r^3$ relationship in subsequent steps.\n",
    "\n",
    "---\n",
    "\n",
    "### Step 2: Circular Orbit Visualization 🎬\n",
    "To illustrate the dynamics of a circular orbit, an animated simulation of the Moon’s orbit around Earth is generated. The Moon’s orbital radius of 384,400 km is scaled for visualization, with Earth positioned at the origin. This animation highlights the uniform motion characteristic of a circular orbit, providing a visual representation of the period $T$ and radius $r$ used in Kepler’s Third Law.\n",
    "\n",
    "---\n",
    "\n",
    "### Step 3: $T^2$ vs $r^3$ Verification\n",
    "A graphical representation confirms the $T^2 \\propto r^3$ relationship by plotting $T^2$ against $r^3$ for the Moon and planets. This visualization validates Kepler’s Third Law across different orbital scales, from the Moon’s orbit around Earth to Jupiter’s orbit around the Sun.\n",
    "\n",
    "---\n",
    "\n",
    "## 🌠 Extension to Elliptical Orbits\n",
    "For elliptical orbits, Kepler’s Third Law applies with $r$ representing the semi-major axis. This generalization extends its utility to diverse celestial phenomena, including comets and exoplanets.\n",
    "\n",
    "---\n",
    "\n",
    "## 🎨 Summary\n",
    "This notebook integrates derivation, simulation, and visualization to elucidate Kepler’s Third Law.\n",
    "\n",
    "\n",
    "---"
   ]
  },
  {
   "cell_type": "code",
   "execution_count": 6,
   "metadata": {},
   "outputs": [
    {
     "data": {
      "text/html": [
       "<h3 style='color: #2ECC71;'>✅ All Required Libraries Installed</h3>"
      ],
      "text/plain": [
       "<IPython.core.display.HTML object>"
      ]
     },
     "metadata": {},
     "output_type": "display_data"
    },
    {
     "data": {
      "text/html": [
       "<h2 style='color: #FF5733; text-align: center;'>✨ Libraries Initialized for Analysis ✨</h2>"
      ],
      "text/plain": [
       "<IPython.core.display.HTML object>"
      ]
     },
     "metadata": {},
     "output_type": "display_data"
    },
    {
     "data": {
      "text/html": [
       "<h3 style='color: #2ECC71;'>🌍 Orbital Parameters</h3>"
      ],
      "text/plain": [
       "<IPython.core.display.HTML object>"
      ]
     },
     "metadata": {},
     "output_type": "display_data"
    },
    {
     "data": {
      "text/html": [
       "<style type=\"text/css\">\n",
       "#T_a9f64 th {\n",
       "  font-size: 14px;\n",
       "  text-align: center;\n",
       "  white-space: nowrap;\n",
       "  padding: 10px;\n",
       "  min-width: 150px;\n",
       "}\n",
       "#T_a9f64 td {\n",
       "  min-width: 150px;\n",
       "  max-width: 300px;\n",
       "  overflow: visible;\n",
       "}\n",
       "#T_a9f64_row0_col0, #T_a9f64_row0_col1, #T_a9f64_row0_col2, #T_a9f64_row0_col3, #T_a9f64_row1_col0, #T_a9f64_row1_col1, #T_a9f64_row1_col2, #T_a9f64_row1_col3, #T_a9f64_row2_col0, #T_a9f64_row2_col1, #T_a9f64_row2_col2, #T_a9f64_row2_col3, #T_a9f64_row3_col0, #T_a9f64_row3_col1, #T_a9f64_row3_col2, #T_a9f64_row3_col3 {\n",
       "  background-color: #D5F5E3;\n",
       "  border: 2px solid #28B463;\n",
       "  font-size: 14px;\n",
       "  text-align: center;\n",
       "  white-space: nowrap;\n",
       "  padding: 10px;\n",
       "}\n",
       "</style>\n",
       "<table id=\"T_a9f64\">\n",
       "  <thead>\n",
       "    <tr>\n",
       "      <th class=\"blank level0\" >&nbsp;</th>\n",
       "      <th id=\"T_a9f64_level0_col0\" class=\"col_heading level0 col0\" >Body</th>\n",
       "      <th id=\"T_a9f64_level0_col1\" class=\"col_heading level0 col1\" >Central Mass (kg)</th>\n",
       "      <th id=\"T_a9f64_level0_col2\" class=\"col_heading level0 col2\" >Radius (m)</th>\n",
       "      <th id=\"T_a9f64_level0_col3\" class=\"col_heading level0 col3\" >Period (s)</th>\n",
       "    </tr>\n",
       "  </thead>\n",
       "  <tbody>\n",
       "    <tr>\n",
       "      <th id=\"T_a9f64_level0_row0\" class=\"row_heading level0 row0\" >0</th>\n",
       "      <td id=\"T_a9f64_row0_col0\" class=\"data row0 col0\" >Moon</td>\n",
       "      <td id=\"T_a9f64_row0_col1\" class=\"data row0 col1\" >5,972,000,000,000,000,327,155,712</td>\n",
       "      <td id=\"T_a9f64_row0_col2\" class=\"data row0 col2\" >384,400,000</td>\n",
       "      <td id=\"T_a9f64_row0_col3\" class=\"data row0 col3\" >2,360,448</td>\n",
       "    </tr>\n",
       "    <tr>\n",
       "      <th id=\"T_a9f64_level0_row1\" class=\"row_heading level0 row1\" >1</th>\n",
       "      <td id=\"T_a9f64_row1_col0\" class=\"data row1 col0\" >Earth</td>\n",
       "      <td id=\"T_a9f64_row1_col1\" class=\"data row1 col1\" >1,988,999,999,999,999,901,909,255,192,576</td>\n",
       "      <td id=\"T_a9f64_row1_col2\" class=\"data row1 col2\" >149,600,000,000</td>\n",
       "      <td id=\"T_a9f64_row1_col3\" class=\"data row1 col3\" >31,557,600</td>\n",
       "    </tr>\n",
       "    <tr>\n",
       "      <th id=\"T_a9f64_level0_row2\" class=\"row_heading level0 row2\" >2</th>\n",
       "      <td id=\"T_a9f64_row2_col0\" class=\"data row2 col0\" >Mars</td>\n",
       "      <td id=\"T_a9f64_row2_col1\" class=\"data row2 col1\" >1,988,999,999,999,999,901,909,255,192,576</td>\n",
       "      <td id=\"T_a9f64_row2_col2\" class=\"data row2 col2\" >227,900,000,000</td>\n",
       "      <td id=\"T_a9f64_row2_col3\" class=\"data row2 col3\" >59,356,800</td>\n",
       "    </tr>\n",
       "    <tr>\n",
       "      <th id=\"T_a9f64_level0_row3\" class=\"row_heading level0 row3\" >3</th>\n",
       "      <td id=\"T_a9f64_row3_col0\" class=\"data row3 col0\" >Jupiter</td>\n",
       "      <td id=\"T_a9f64_row3_col1\" class=\"data row3 col1\" >1,988,999,999,999,999,901,909,255,192,576</td>\n",
       "      <td id=\"T_a9f64_row3_col2\" class=\"data row3 col2\" >778,500,000,000</td>\n",
       "      <td id=\"T_a9f64_row3_col3\" class=\"data row3 col3\" >374,371,200</td>\n",
       "    </tr>\n",
       "  </tbody>\n",
       "</table>\n"
      ],
      "text/plain": [
       "<pandas.io.formats.style.Styler at 0x27da3599d10>"
      ]
     },
     "metadata": {},
     "output_type": "display_data"
    },
    {
     "data": {
      "application/vnd.plotly.v1+json": {
       "config": {
        "plotlyServerURL": "https://plot.ly"
       },
       "data": [
        {
         "hovertemplate": "frame=0<br>x=%{x}<br>y=%{y}<extra></extra>",
         "legendgroup": "",
         "marker": {
          "color": "#FF69B4",
          "symbol": "circle"
         },
         "mode": "markers",
         "name": "",
         "orientation": "v",
         "showlegend": false,
         "type": "scatter",
         "x": {
          "bdata": "ZmZmZmYGeEA=",
          "dtype": "f8"
         },
         "xaxis": "x",
         "y": {
          "bdata": "AAAAAAAAAAA=",
          "dtype": "f8"
         },
         "yaxis": "y"
        },
        {
         "marker": {
          "color": "#3498DB",
          "size": 20
         },
         "mode": "markers",
         "name": "Earth",
         "type": "scatter",
         "x": [
          0
         ],
         "y": [
          0
         ]
        }
       ],
       "frames": [
        {
         "data": [
          {
           "hovertemplate": "frame=0<br>x=%{x}<br>y=%{y}<extra></extra>",
           "legendgroup": "",
           "marker": {
            "color": "#FF69B4",
            "symbol": "circle"
           },
           "mode": "markers",
           "name": "",
           "orientation": "v",
           "showlegend": false,
           "type": "scatter",
           "x": {
            "bdata": "ZmZmZmYGeEA=",
            "dtype": "f8"
           },
           "xaxis": "x",
           "y": {
            "bdata": "AAAAAAAAAAA=",
            "dtype": "f8"
           },
           "yaxis": "y"
          }
         ],
         "name": "0"
        },
        {
         "data": [
          {
           "hovertemplate": "frame=1<br>x=%{x}<br>y=%{y}<extra></extra>",
           "legendgroup": "",
           "marker": {
            "color": "#FF69B4",
            "symbol": "circle"
           },
           "mode": "markers",
           "name": "",
           "orientation": "v",
           "showlegend": false,
           "type": "scatter",
           "x": {
            "bdata": "WWfSagT6d0A=",
            "dtype": "f8"
           },
           "xaxis": "x",
           "y": {
            "bdata": "oJHI0VFhOEA=",
            "dtype": "f8"
           },
           "yaxis": "y"
          }
         ],
         "name": "1"
        },
        {
         "data": [
          {
           "hovertemplate": "frame=2<br>x=%{x}<br>y=%{y}<extra></extra>",
           "legendgroup": "",
           "marker": {
            "color": "#FF69B4",
            "symbol": "circle"
           },
           "mode": "markers",
           "name": "",
           "orientation": "v",
           "showlegend": false,
           "type": "scatter",
           "x": {
            "bdata": "Mz3GO+vUd0A=",
            "dtype": "f8"
           },
           "xaxis": "x",
           "y": {
            "bdata": "hGDN+cBUSEA=",
            "dtype": "f8"
           },
           "yaxis": "y"
          }
         ],
         "name": "2"
        },
        {
         "data": [
          {
           "hovertemplate": "frame=3<br>x=%{x}<br>y=%{y}<extra></extra>",
           "legendgroup": "",
           "marker": {
            "color": "#FF69B4",
            "symbol": "circle"
           },
           "mode": "markers",
           "name": "",
           "orientation": "v",
           "showlegend": false,
           "type": "scatter",
           "x": {
            "bdata": "CvooF0GXd0A=",
            "dtype": "f8"
           },
           "xaxis": "x",
           "y": {
            "bdata": "9QdfJ+IvUkA=",
            "dtype": "f8"
           },
           "yaxis": "y"
          }
         ],
         "name": "3"
        },
        {
         "data": [
          {
           "hovertemplate": "frame=4<br>x=%{x}<br>y=%{y}<extra></extra>",
           "legendgroup": "",
           "marker": {
            "color": "#FF69B4",
            "symbol": "circle"
           },
           "mode": "markers",
           "name": "",
           "orientation": "v",
           "showlegend": false,
           "type": "scatter",
           "x": {
            "bdata": "QUqtjUVBd0A=",
            "dtype": "f8"
           },
           "xaxis": "x",
           "y": {
            "bdata": "uHAtb6QiWEA=",
            "dtype": "f8"
           },
           "yaxis": "y"
          }
         ],
         "name": "4"
        },
        {
         "data": [
          {
           "hovertemplate": "frame=5<br>x=%{x}<br>y=%{y}<extra></extra>",
           "legendgroup": "",
           "marker": {
            "color": "#FF69B4",
            "symbol": "circle"
           },
           "mode": "markers",
           "name": "",
           "orientation": "v",
           "showlegend": false,
           "type": "scatter",
           "x": {
            "bdata": "tzRLQVHTdkA=",
            "dtype": "f8"
           },
           "xaxis": "x",
           "y": {
            "bdata": "1KPzooX8XUA=",
            "dtype": "f8"
           },
           "yaxis": "y"
          }
         ],
         "name": "5"
        },
        {
         "data": [
          {
           "hovertemplate": "frame=6<br>x=%{x}<br>y=%{y}<extra></extra>",
           "legendgroup": "",
           "marker": {
            "color": "#FF69B4",
            "symbol": "circle"
           },
           "mode": "markers",
           "name": "",
           "orientation": "v",
           "showlegend": false,
           "type": "scatter",
           "x": {
            "bdata": "KMviidVNdkA=",
            "dtype": "f8"
           },
           "xaxis": "x",
           "y": {
            "bdata": "Tcta277bYUA=",
            "dtype": "f8"
           },
           "yaxis": "y"
          }
         ],
         "name": "6"
        },
        {
         "data": [
          {
           "hovertemplate": "frame=7<br>x=%{x}<br>y=%{y}<extra></extra>",
           "legendgroup": "",
           "marker": {
            "color": "#FF69B4",
            "symbol": "circle"
           },
           "mode": "markers",
           "name": "",
           "orientation": "v",
           "showlegend": false,
           "type": "scatter",
           "x": {
            "bdata": "9fhlAFyxdUA=",
            "dtype": "f8"
           },
           "xaxis": "x",
           "y": {
            "bdata": "b0K+PdKmZEA=",
            "dtype": "f8"
           },
           "yaxis": "y"
          }
         ],
         "name": "7"
        },
        {
         "data": [
          {
           "hovertemplate": "frame=8<br>x=%{x}<br>y=%{y}<extra></extra>",
           "legendgroup": "",
           "marker": {
            "color": "#FF69B4",
            "symbol": "circle"
           },
           "mode": "markers",
           "name": "",
           "orientation": "v",
           "showlegend": false,
           "type": "scatter",
           "x": {
            "bdata": "W+AB8YX+dEA=",
            "dtype": "f8"
           },
           "xaxis": "x",
           "y": {
            "bdata": "ScYQ25tcZ0A=",
            "dtype": "f8"
           },
           "yaxis": "y"
          }
         ],
         "name": "8"
        },
        {
         "data": [
          {
           "hovertemplate": "frame=9<br>x=%{x}<br>y=%{y}<extra></extra>",
           "legendgroup": "",
           "marker": {
            "color": "#FF69B4",
            "symbol": "circle"
           },
           "mode": "markers",
           "name": "",
           "orientation": "v",
           "showlegend": false,
           "type": "scatter",
           "x": {
            "bdata": "7/vZtAs2dEA=",
            "dtype": "f8"
           },
           "xaxis": "x",
           "y": {
            "bdata": "NIJ8h1D6aUA=",
            "dtype": "f8"
           },
           "yaxis": "y"
          }
         ],
         "name": "9"
        },
        {
         "data": [
          {
           "hovertemplate": "frame=10<br>x=%{x}<br>y=%{y}<extra></extra>",
           "legendgroup": "",
           "marker": {
            "color": "#FF69B4",
            "symbol": "circle"
           },
           "mode": "markers",
           "name": "",
           "orientation": "v",
           "showlegend": false,
           "type": "scatter",
           "x": {
            "bdata": "MGkA9LtYc0A=",
            "dtype": "f8"
           },
           "xaxis": "x",
           "y": {
            "bdata": "uAUg6j19bEA=",
            "dtype": "f8"
           },
           "yaxis": "y"
          }
         ],
         "name": "10"
        },
        {
         "data": [
          {
           "hovertemplate": "frame=11<br>x=%{x}<br>y=%{y}<extra></extra>",
           "legendgroup": "",
           "marker": {
            "color": "#FF69B4",
            "symbol": "circle"
           },
           "mode": "markers",
           "name": "",
           "orientation": "v",
           "showlegend": false,
           "type": "scatter",
           "x": {
            "bdata": "Oz9v0HpnckA=",
            "dtype": "f8"
           },
           "xaxis": "x",
           "y": {
            "bdata": "MzmuRM3ibkA=",
            "dtype": "f8"
           },
           "yaxis": "y"
          }
         ],
         "name": "11"
        },
        {
         "data": [
          {
           "hovertemplate": "frame=12<br>x=%{x}<br>y=%{y}<extra></extra>",
           "legendgroup": "",
           "marker": {
            "color": "#FF69B4",
            "symbol": "circle"
           },
           "mode": "markers",
           "name": "",
           "orientation": "v",
           "showlegend": false,
           "type": "scatter",
           "x": {
            "bdata": "IIne+kBjcUA=",
            "dtype": "f8"
           },
           "xaxis": "x",
           "y": {
            "bdata": "OPhMD0OUcEA=",
            "dtype": "f8"
           },
           "yaxis": "y"
          }
         ],
         "name": "12"
        },
        {
         "data": [
          {
           "hovertemplate": "frame=13<br>x=%{x}<br>y=%{y}<extra></extra>",
           "legendgroup": "",
           "marker": {
            "color": "#FF69B4",
            "symbol": "circle"
           },
           "mode": "markers",
           "name": "",
           "orientation": "v",
           "showlegend": false,
           "type": "scatter",
           "x": {
            "bdata": "gU1pshpNcEA=",
            "dtype": "f8"
           },
           "xaxis": "x",
           "y": {
            "bdata": "kHCGaAimcUA=",
            "dtype": "f8"
           },
           "yaxis": "y"
          }
         ],
         "name": "13"
        },
        {
         "data": [
          {
           "hovertemplate": "frame=14<br>x=%{x}<br>y=%{y}<extra></extra>",
           "legendgroup": "",
           "marker": {
            "color": "#FF69B4",
            "symbol": "circle"
           },
           "mode": "markers",
           "name": "",
           "orientation": "v",
           "showlegend": false,
           "type": "scatter",
           "x": {
            "bdata": "G8oTYE1MbkA=",
            "dtype": "f8"
           },
           "xaxis": "x",
           "y": {
            "bdata": "DfeEeJylckA=",
            "dtype": "f8"
           },
           "yaxis": "y"
          }
         ],
         "name": "14"
        },
        {
         "data": [
          {
           "hovertemplate": "frame=15<br>x=%{x}<br>y=%{y}<extra></extra>",
           "legendgroup": "",
           "marker": {
            "color": "#FF69B4",
            "symbol": "circle"
           },
           "mode": "markers",
           "name": "",
           "orientation": "v",
           "showlegend": false,
           "type": "scatter",
           "x": {
            "bdata": "yVIV/infa0A=",
            "dtype": "f8"
           },
           "xaxis": "x",
           "y": {
            "bdata": "18ueyveRc0A=",
            "dtype": "f8"
           },
           "yaxis": "y"
          }
         ],
         "name": "15"
        },
        {
         "data": [
          {
           "hovertemplate": "frame=16<br>x=%{x}<br>y=%{y}<extra></extra>",
           "legendgroup": "",
           "marker": {
            "color": "#FF69B4",
            "symbol": "circle"
           },
           "mode": "markers",
           "name": "",
           "orientation": "v",
           "showlegend": false,
           "type": "scatter",
           "x": {
            "bdata": "aU83h0tVaUA=",
            "dtype": "f8"
           },
           "xaxis": "x",
           "y": {
            "bdata": "AmmSuiZqdEA=",
            "dtype": "f8"
           },
           "yaxis": "y"
          }
         ],
         "name": "16"
        },
        {
         "data": [
          {
           "hovertemplate": "frame=17<br>x=%{x}<br>y=%{y}<extra></extra>",
           "legendgroup": "",
           "marker": {
            "color": "#FF69B4",
            "symbol": "circle"
           },
           "mode": "markers",
           "name": "",
           "orientation": "v",
           "showlegend": false,
           "type": "scatter",
           "x": {
            "bdata": "vtSg4U+xZkA=",
            "dtype": "f8"
           },
           "xaxis": "x",
           "y": {
            "bdata": "eC6tb0otdUA=",
            "dtype": "f8"
           },
           "yaxis": "y"
          }
         ],
         "name": "17"
        },
        {
         "data": [
          {
           "hovertemplate": "frame=18<br>x=%{x}<br>y=%{y}<extra></extra>",
           "legendgroup": "",
           "marker": {
            "color": "#FF69B4",
            "symbol": "circle"
           },
           "mode": "markers",
           "name": "",
           "orientation": "v",
           "showlegend": false,
           "type": "scatter",
           "x": {
            "bdata": "cg+03u/1Y0A=",
            "dtype": "f8"
           },
           "xaxis": "x",
           "y": {
            "bdata": "S2qCwpnadUA=",
            "dtype": "f8"
           },
           "yaxis": "y"
          }
         ],
         "name": "18"
        },
        {
         "data": [
          {
           "hovertemplate": "frame=19<br>x=%{x}<br>y=%{y}<extra></extra>",
           "legendgroup": "",
           "marker": {
            "color": "#FF69B4",
            "symbol": "circle"
           },
           "mode": "markers",
           "name": "",
           "orientation": "v",
           "showlegend": false,
           "type": "scatter",
           "x": {
            "bdata": "UsDCbPwlYUA=",
            "dtype": "f8"
           },
           "xaxis": "x",
           "y": {
            "bdata": "6PFFDGJxdkA=",
            "dtype": "f8"
           },
           "yaxis": "y"
          }
         ],
         "name": "19"
        },
        {
         "data": [
          {
           "hovertemplate": "frame=20<br>x=%{x}<br>y=%{y}<extra></extra>",
           "legendgroup": "",
           "marker": {
            "color": "#FF69B4",
            "symbol": "circle"
           },
           "mode": "markers",
           "name": "",
           "orientation": "v",
           "showlegend": false,
           "type": "scatter",
           "x": {
            "bdata": "vQzPX7eIXEA=",
            "dtype": "f8"
           },
           "xaxis": "x",
           "y": {
            "bdata": "a4303gfxdkA=",
            "dtype": "f8"
           },
           "yaxis": "y"
          }
         ],
         "name": "20"
        },
        {
         "data": [
          {
           "hovertemplate": "frame=21<br>x=%{x}<br>y=%{y}<extra></extra>",
           "legendgroup": "",
           "marker": {
            "color": "#FF69B4",
            "symbol": "circle"
           },
           "mode": "markers",
           "name": "",
           "orientation": "v",
           "showlegend": false,
           "type": "scatter",
           "x": {
            "bdata": "YQoECgyoVkA=",
            "dtype": "f8"
           },
           "xaxis": "x",
           "y": {
            "bdata": "oV+MpQdZd0A=",
            "dtype": "f8"
           },
           "yaxis": "y"
          }
         ],
         "name": "21"
        },
        {
         "data": [
          {
           "hovertemplate": "frame=22<br>x=%{x}<br>y=%{y}<extra></extra>",
           "legendgroup": "",
           "marker": {
            "color": "#FF69B4",
            "symbol": "circle"
           },
           "mode": "markers",
           "name": "",
           "orientation": "v",
           "showlegend": false,
           "type": "scatter",
           "x": {
            "bdata": "Wv/U4wWwUEA=",
            "dtype": "f8"
           },
           "xaxis": "x",
           "y": {
            "bdata": "FyKwK/aod0A=",
            "dtype": "f8"
           },
           "yaxis": "y"
          }
         ],
         "name": "22"
        },
        {
         "data": [
          {
           "hovertemplate": "frame=23<br>x=%{x}<br>y=%{y}<extra></extra>",
           "legendgroup": "",
           "marker": {
            "color": "#FF69B4",
            "symbol": "circle"
           },
           "mode": "markers",
           "name": "",
           "orientation": "v",
           "showlegend": false,
           "type": "scatter",
           "x": {
            "bdata": "sG8TGJhNRUA=",
            "dtype": "f8"
           },
           "xaxis": "x",
           "y": {
            "bdata": "z2MpDIHgd0A=",
            "dtype": "f8"
           },
           "yaxis": "y"
          }
         ],
         "name": "23"
        },
        {
         "data": [
          {
           "hovertemplate": "frame=24<br>x=%{x}<br>y=%{y}<extra></extra>",
           "legendgroup": "",
           "marker": {
            "color": "#FF69B4",
            "symbol": "circle"
           },
           "mode": "markers",
           "name": "",
           "orientation": "v",
           "showlegend": false,
           "type": "scatter",
           "x": {
            "bdata": "XQhZc11KMkA=",
            "dtype": "f8"
           },
           "xaxis": "x",
           "y": {
            "bdata": "UeDXBW//d0A=",
            "dtype": "f8"
           },
           "yaxis": "y"
          }
         ],
         "name": "24"
        },
        {
         "data": [
          {
           "hovertemplate": "frame=25<br>x=%{x}<br>y=%{y}<extra></extra>",
           "legendgroup": "",
           "marker": {
            "color": "#FF69B4",
            "symbol": "circle"
           },
           "mode": "markers",
           "name": "",
           "orientation": "v",
           "showlegend": false,
           "type": "scatter",
           "x": {
            "bdata": "y7t24T9lGMA=",
            "dtype": "f8"
           },
           "xaxis": "x",
           "y": {
            "bdata": "smG2NqAFeEA=",
            "dtype": "f8"
           },
           "yaxis": "y"
          }
         ],
         "name": "25"
        },
        {
         "data": [
          {
           "hovertemplate": "frame=26<br>x=%{x}<br>y=%{y}<extra></extra>",
           "legendgroup": "",
           "marker": {
            "color": "#FF69B4",
            "symbol": "circle"
           },
           "mode": "markers",
           "name": "",
           "orientation": "v",
           "showlegend": false,
           "type": "scatter",
           "x": {
            "bdata": "fVfS9LN2PsA=",
            "dtype": "f8"
           },
           "xaxis": "x",
           "y": {
            "bdata": "4Va4PA7zd0A=",
            "dtype": "f8"
           },
           "yaxis": "y"
          }
         ],
         "name": "26"
        },
        {
         "data": [
          {
           "hovertemplate": "frame=27<br>x=%{x}<br>y=%{y}<extra></extra>",
           "legendgroup": "",
           "marker": {
            "color": "#FF69B4",
            "symbol": "circle"
           },
           "mode": "markers",
           "name": "",
           "orientation": "v",
           "showlegend": false,
           "type": "scatter",
           "x": {
            "bdata": "nCByb1haS8A=",
            "dtype": "f8"
           },
           "xaxis": "x",
           "y": {
            "bdata": "dD1ePMzHd0A=",
            "dtype": "f8"
           },
           "yaxis": "y"
          }
         ],
         "name": "27"
        },
        {
         "data": [
          {
           "hovertemplate": "frame=28<br>x=%{x}<br>y=%{y}<extra></extra>",
           "legendgroup": "",
           "marker": {
            "color": "#FF69B4",
            "symbol": "circle"
           },
           "mode": "markers",
           "name": "",
           "orientation": "v",
           "showlegend": false,
           "type": "scatter",
           "x": {
            "bdata": "GwmTXJKuU8A=",
            "dtype": "f8"
           },
           "xaxis": "x",
           "y": {
            "bdata": "hxb6zAaEd0A=",
            "dtype": "f8"
           },
           "yaxis": "y"
          }
         ],
         "name": "28"
        },
        {
         "data": [
          {
           "hovertemplate": "frame=29<br>x=%{x}<br>y=%{y}<extra></extra>",
           "legendgroup": "",
           "marker": {
            "color": "#FF69B4",
            "symbol": "circle"
           },
           "mode": "markers",
           "name": "",
           "orientation": "v",
           "showlegend": false,
           "type": "scatter",
           "x": {
            "bdata": "3UEDo66bWcA=",
            "dtype": "f8"
           },
           "xaxis": "x",
           "y": {
            "bdata": "8j24ygMod0A=",
            "dtype": "f8"
           },
           "yaxis": "y"
          }
         ],
         "name": "29"
        },
        {
         "data": [
          {
           "hovertemplate": "frame=30<br>x=%{x}<br>y=%{y}<extra></extra>",
           "legendgroup": "",
           "marker": {
            "color": "#FF69B4",
            "symbol": "circle"
           },
           "mode": "markers",
           "name": "",
           "orientation": "v",
           "showlegend": false,
           "type": "scatter",
           "x": {
            "bdata": "6Us+LGVuX8A=",
            "dtype": "f8"
           },
           "xaxis": "x",
           "y": {
            "bdata": "sgWcDiK0dkA=",
            "dtype": "f8"
           },
           "yaxis": "y"
          }
         ],
         "name": "30"
        },
        {
         "data": [
          {
           "hovertemplate": "frame=31<br>x=%{x}<br>y=%{y}<extra></extra>",
           "legendgroup": "",
           "marker": {
            "color": "#FF69B4",
            "symbol": "circle"
           },
           "mode": "markers",
           "name": "",
           "orientation": "v",
           "showlegend": false,
           "type": "scatter",
           "x": {
            "bdata": "H2a/p1qQYsA=",
            "dtype": "f8"
           },
           "xaxis": "x",
           "y": {
            "bdata": "HFG6DNkodkA=",
            "dtype": "f8"
           },
           "yaxis": "y"
          }
         ],
         "name": "31"
        },
        {
         "data": [
          {
           "hovertemplate": "frame=32<br>x=%{x}<br>y=%{y}<extra></extra>",
           "legendgroup": "",
           "marker": {
            "color": "#FF69B4",
            "symbol": "circle"
           },
           "mode": "markers",
           "name": "",
           "orientation": "v",
           "showlegend": false,
           "type": "scatter",
           "x": {
            "bdata": "hIIF5V9WZcA=",
            "dtype": "f8"
           },
           "xaxis": "x",
           "y": {
            "bdata": "sfgWWbiGdUA=",
            "dtype": "f8"
           },
           "yaxis": "y"
          }
         ],
         "name": "32"
        },
        {
         "data": [
          {
           "hovertemplate": "frame=33<br>x=%{x}<br>y=%{y}<extra></extra>",
           "legendgroup": "",
           "marker": {
            "color": "#FF69B4",
            "symbol": "circle"
           },
           "mode": "markers",
           "name": "",
           "orientation": "v",
           "showlegend": false,
           "type": "scatter",
           "x": {
            "bdata": "amZmZmYGaMA=",
            "dtype": "f8"
           },
           "xaxis": "x",
           "y": {
            "bdata": "wuSjE2fOdEA=",
            "dtype": "f8"
           },
           "yaxis": "y"
          }
         ],
         "name": "33"
        },
        {
         "data": [
          {
           "hovertemplate": "frame=34<br>x=%{x}<br>y=%{y}<extra></extra>",
           "legendgroup": "",
           "marker": {
            "color": "#FF69B4",
            "symbol": "circle"
           },
           "mode": "markers",
           "name": "",
           "orientation": "v",
           "showlegend": false,
           "type": "scatter",
           "x": {
            "bdata": "LEyf8KidasA=",
            "dtype": "f8"
           },
           "xaxis": "x",
           "y": {
            "bdata": "l2/6O6MAdEA=",
            "dtype": "f8"
           },
           "yaxis": "y"
          }
         ],
         "name": "34"
        },
        {
         "data": [
          {
           "hovertemplate": "frame=35<br>x=%{x}<br>y=%{y}<extra></extra>",
           "legendgroup": "",
           "marker": {
            "color": "#FF69B4",
            "symbol": "circle"
           },
           "mode": "markers",
           "name": "",
           "orientation": "v",
           "showlegend": false,
           "type": "scatter",
           "x": {
            "bdata": "SxTNz3sZbcA=",
            "dtype": "f8"
           },
           "xaxis": "x",
           "y": {
            "bdata": "CqWA7UAec0A=",
            "dtype": "f8"
           },
           "yaxis": "y"
          }
         ],
         "name": "35"
        },
        {
         "data": [
          {
           "hovertemplate": "frame=36<br>x=%{x}<br>y=%{y}<extra></extra>",
           "legendgroup": "",
           "marker": {
            "color": "#FF69B4",
            "symbol": "circle"
           },
           "mode": "markers",
           "name": "",
           "orientation": "v",
           "showlegend": false,
           "type": "scatter",
           "x": {
            "bdata": "H84ymE93b8A=",
            "dtype": "f8"
           },
           "xaxis": "x",
           "y": {
            "bdata": "tEPEhCkockA=",
            "dtype": "f8"
           },
           "yaxis": "y"
          }
         ],
         "name": "36"
        },
        {
         "data": [
          {
           "hovertemplate": "frame=37<br>x=%{x}<br>y=%{y}<extra></extra>",
           "legendgroup": "",
           "marker": {
            "color": "#FF69B4",
            "symbol": "circle"
           },
           "mode": "markers",
           "name": "",
           "orientation": "v",
           "showlegend": false,
           "type": "scatter",
           "x": {
            "bdata": "ynns5FnacMA=",
            "dtype": "f8"
           },
           "xaxis": "x",
           "y": {
            "bdata": "w+HsrlofcUA=",
            "dtype": "f8"
           },
           "yaxis": "y"
          }
         ],
         "name": "37"
        },
        {
         "data": [
          {
           "hovertemplate": "frame=38<br>x=%{x}<br>y=%{y}<extra></extra>",
           "legendgroup": "",
           "marker": {
            "color": "#FF69B4",
            "symbol": "circle"
           },
           "mode": "markers",
           "name": "",
           "orientation": "v",
           "showlegend": false,
           "type": "scatter",
           "x": {
            "bdata": "cHImqqznccA=",
            "dtype": "f8"
           },
           "xaxis": "x",
           "y": {
            "bdata": "ki09ZOUEcEA=",
            "dtype": "f8"
           },
           "yaxis": "y"
          }
         ],
         "name": "38"
        },
        {
         "data": [
          {
           "hovertemplate": "frame=39<br>x=%{x}<br>y=%{y}<extra></extra>",
           "legendgroup": "",
           "marker": {
            "color": "#FF69B4",
            "symbol": "circle"
           },
           "mode": "markers",
           "name": "",
           "orientation": "v",
           "showlegend": false,
           "type": "scatter",
           "x": {
            "bdata": "Fof0e4ricsA=",
            "dtype": "f8"
           },
           "xaxis": "x",
           "y": {
            "bdata": "nK9hndmzbUA=",
            "dtype": "f8"
           },
           "yaxis": "y"
          }
         ],
         "name": "39"
        },
        {
         "data": [
          {
           "hovertemplate": "frame=40<br>x=%{x}<br>y=%{y}<extra></extra>",
           "legendgroup": "",
           "marker": {
            "color": "#FF69B4",
            "symbol": "circle"
           },
           "mode": "markers",
           "name": "",
           "orientation": "v",
           "showlegend": false,
           "type": "scatter",
           "x": {
            "bdata": "ftMYwfDJc8A=",
            "dtype": "f8"
           },
           "xaxis": "x",
           "y": {
            "bdata": "VWuyO0o/a0A=",
            "dtype": "f8"
           },
           "yaxis": "y"
          }
         ],
         "name": "40"
        },
        {
         "data": [
          {
           "hovertemplate": "frame=41<br>x=%{x}<br>y=%{y}<extra></extra>",
           "legendgroup": "",
           "marker": {
            "color": "#FF69B4",
            "symbol": "circle"
           },
           "mode": "markers",
           "name": "",
           "orientation": "v",
           "showlegend": false,
           "type": "scatter",
           "x": {
            "bdata": "bAV88fCcdMA=",
            "dtype": "f8"
           },
           "xaxis": "x",
           "y": {
            "bdata": "G/1bkqSuaEA=",
            "dtype": "f8"
           },
           "yaxis": "y"
          }
         ],
         "name": "41"
        },
        {
         "data": [
          {
           "hovertemplate": "frame=42<br>x=%{x}<br>y=%{y}<extra></extra>",
           "legendgroup": "",
           "marker": {
            "color": "#FF69B4",
            "symbol": "circle"
           },
           "mode": "markers",
           "name": "",
           "orientation": "v",
           "showlegend": false,
           "type": "scatter",
           "x": {
            "bdata": "dYwPjLFadcA=",
            "dtype": "f8"
           },
           "xaxis": "x",
           "y": {
            "bdata": "cD4zhI0EZkA=",
            "dtype": "f8"
           },
           "yaxis": "y"
          }
         ],
         "name": "42"
        },
        {
         "data": [
          {
           "hovertemplate": "frame=43<br>x=%{x}<br>y=%{y}<extra></extra>",
           "legendgroup": "",
           "marker": {
            "color": "#FF69B4",
            "symbol": "circle"
           },
           "mode": "markers",
           "name": "",
           "orientation": "v",
           "showlegend": false,
           "type": "scatter",
           "x": {
            "bdata": "JtcC924CdsA=",
            "dtype": "f8"
           },
           "xaxis": "x",
           "y": {
            "bdata": "48EyLsRDY0A=",
            "dtype": "f8"
           },
           "yaxis": "y"
          }
         ],
         "name": "43"
        },
        {
         "data": [
          {
           "hovertemplate": "frame=44<br>x=%{x}<br>y=%{y}<extra></extra>",
           "legendgroup": "",
           "marker": {
            "color": "#FF69B4",
            "symbol": "circle"
           },
           "mode": "markers",
           "name": "",
           "orientation": "v",
           "showlegend": false,
           "type": "scatter",
           "x": {
            "bdata": "EX9kSXyTdsA=",
            "dtype": "f8"
           },
           "xaxis": "x",
           "y": {
            "bdata": "/AqyEh9vYEA=",
            "dtype": "f8"
           },
           "yaxis": "y"
          }
         ],
         "name": "44"
        },
        {
         "data": [
          {
           "hovertemplate": "frame=45<br>x=%{x}<br>y=%{y}<extra></extra>",
           "legendgroup": "",
           "marker": {
            "color": "#FF69B4",
            "symbol": "circle"
           },
           "mode": "markers",
           "name": "",
           "orientation": "v",
           "showlegend": false,
           "type": "scatter",
           "x": {
            "bdata": "uItf/UMNd8A=",
            "dtype": "f8"
           },
           "xaxis": "x",
           "y": {
            "bdata": "o539WBITW0A=",
            "dtype": "f8"
           },
           "yaxis": "y"
          }
         ],
         "name": "45"
        },
        {
         "data": [
          {
           "hovertemplate": "frame=46<br>x=%{x}<br>y=%{y}<extra></extra>",
           "legendgroup": "",
           "marker": {
            "color": "#FF69B4",
            "symbol": "circle"
           },
           "mode": "markers",
           "name": "",
           "orientation": "v",
           "showlegend": false,
           "type": "scatter",
           "x": {
            "bdata": "sBBdikhvd8A=",
            "dtype": "f8"
           },
           "xaxis": "x",
           "y": {
            "bdata": "dHO42f0rVUA=",
            "dtype": "f8"
           },
           "yaxis": "y"
          }
         ],
         "name": "46"
        },
        {
         "data": [
          {
           "hovertemplate": "frame=47<br>x=%{x}<br>y=%{y}<extra></extra>",
           "legendgroup": "",
           "marker": {
            "color": "#FF69B4",
            "symbol": "circle"
           },
           "mode": "markers",
           "name": "",
           "orientation": "v",
           "showlegend": false,
           "type": "scatter",
           "x": {
            "bdata": "NkVr5iS5d8A=",
            "dtype": "f8"
           },
           "xaxis": "x",
           "y": {
            "bdata": "29YHnixeTkA=",
            "dtype": "f8"
           },
           "yaxis": "y"
          }
         ],
         "name": "47"
        },
        {
         "data": [
          {
           "hovertemplate": "frame=48<br>x=%{x}<br>y=%{y}<extra></extra>",
           "legendgroup": "",
           "marker": {
            "color": "#FF69B4",
            "symbol": "circle"
           },
           "mode": "markers",
           "name": "",
           "orientation": "v",
           "showlegend": false,
           "type": "scatter",
           "x": {
            "bdata": "HbFk7ozqd8A=",
            "dtype": "f8"
           },
           "xaxis": "x",
           "y": {
            "bdata": "j/Mcvw9FQkA=",
            "dtype": "f8"
           },
           "yaxis": "y"
          }
         ],
         "name": "48"
        },
        {
         "data": [
          {
           "hovertemplate": "frame=49<br>x=%{x}<br>y=%{y}<extra></extra>",
           "legendgroup": "",
           "marker": {
            "color": "#FF69B4",
            "symbol": "circle"
           },
           "mode": "markers",
           "name": "",
           "orientation": "v",
           "showlegend": false,
           "type": "scatter",
           "x": {
            "bdata": "ExJstE0DeMA=",
            "dtype": "f8"
           },
           "xaxis": "x",
           "y": {
            "bdata": "pq5Yo3ZkKEA=",
            "dtype": "f8"
           },
           "yaxis": "y"
          }
         ],
         "name": "49"
        },
        {
         "data": [
          {
           "hovertemplate": "frame=50<br>x=%{x}<br>y=%{y}<extra></extra>",
           "legendgroup": "",
           "marker": {
            "color": "#FF69B4",
            "symbol": "circle"
           },
           "mode": "markers",
           "name": "",
           "orientation": "v",
           "showlegend": false,
           "type": "scatter",
           "x": {
            "bdata": "ExJstE0DeMA=",
            "dtype": "f8"
           },
           "xaxis": "x",
           "y": {
            "bdata": "0q5Yo3ZkKMA=",
            "dtype": "f8"
           },
           "yaxis": "y"
          }
         ],
         "name": "50"
        },
        {
         "data": [
          {
           "hovertemplate": "frame=51<br>x=%{x}<br>y=%{y}<extra></extra>",
           "legendgroup": "",
           "marker": {
            "color": "#FF69B4",
            "symbol": "circle"
           },
           "mode": "markers",
           "name": "",
           "orientation": "v",
           "showlegend": false,
           "type": "scatter",
           "x": {
            "bdata": "HbFk7ozqd8A=",
            "dtype": "f8"
           },
           "xaxis": "x",
           "y": {
            "bdata": "mvMcvw9FQsA=",
            "dtype": "f8"
           },
           "yaxis": "y"
          }
         ],
         "name": "51"
        },
        {
         "data": [
          {
           "hovertemplate": "frame=52<br>x=%{x}<br>y=%{y}<extra></extra>",
           "legendgroup": "",
           "marker": {
            "color": "#FF69B4",
            "symbol": "circle"
           },
           "mode": "markers",
           "name": "",
           "orientation": "v",
           "showlegend": false,
           "type": "scatter",
           "x": {
            "bdata": "NkVr5iS5d8A=",
            "dtype": "f8"
           },
           "xaxis": "x",
           "y": {
            "bdata": "5tYHnixeTsA=",
            "dtype": "f8"
           },
           "yaxis": "y"
          }
         ],
         "name": "52"
        },
        {
         "data": [
          {
           "hovertemplate": "frame=53<br>x=%{x}<br>y=%{y}<extra></extra>",
           "legendgroup": "",
           "marker": {
            "color": "#FF69B4",
            "symbol": "circle"
           },
           "mode": "markers",
           "name": "",
           "orientation": "v",
           "showlegend": false,
           "type": "scatter",
           "x": {
            "bdata": "sBBdikhvd8A=",
            "dtype": "f8"
           },
           "xaxis": "x",
           "y": {
            "bdata": "bXO42f0rVcA=",
            "dtype": "f8"
           },
           "yaxis": "y"
          }
         ],
         "name": "53"
        },
        {
         "data": [
          {
           "hovertemplate": "frame=54<br>x=%{x}<br>y=%{y}<extra></extra>",
           "legendgroup": "",
           "marker": {
            "color": "#FF69B4",
            "symbol": "circle"
           },
           "mode": "markers",
           "name": "",
           "orientation": "v",
           "showlegend": false,
           "type": "scatter",
           "x": {
            "bdata": "uItf/UMNd8A=",
            "dtype": "f8"
           },
           "xaxis": "x",
           "y": {
            "bdata": "qZ39WBITW8A=",
            "dtype": "f8"
           },
           "yaxis": "y"
          }
         ],
         "name": "54"
        },
        {
         "data": [
          {
           "hovertemplate": "frame=55<br>x=%{x}<br>y=%{y}<extra></extra>",
           "legendgroup": "",
           "marker": {
            "color": "#FF69B4",
            "symbol": "circle"
           },
           "mode": "markers",
           "name": "",
           "orientation": "v",
           "showlegend": false,
           "type": "scatter",
           "x": {
            "bdata": "EX9kSXyTdsA=",
            "dtype": "f8"
           },
           "xaxis": "x",
           "y": {
            "bdata": "+QqyEh9vYMA=",
            "dtype": "f8"
           },
           "yaxis": "y"
          }
         ],
         "name": "55"
        },
        {
         "data": [
          {
           "hovertemplate": "frame=56<br>x=%{x}<br>y=%{y}<extra></extra>",
           "legendgroup": "",
           "marker": {
            "color": "#FF69B4",
            "symbol": "circle"
           },
           "mode": "markers",
           "name": "",
           "orientation": "v",
           "showlegend": false,
           "type": "scatter",
           "x": {
            "bdata": "JtcC924CdsA=",
            "dtype": "f8"
           },
           "xaxis": "x",
           "y": {
            "bdata": "58EyLsRDY8A=",
            "dtype": "f8"
           },
           "yaxis": "y"
          }
         ],
         "name": "56"
        },
        {
         "data": [
          {
           "hovertemplate": "frame=57<br>x=%{x}<br>y=%{y}<extra></extra>",
           "legendgroup": "",
           "marker": {
            "color": "#FF69B4",
            "symbol": "circle"
           },
           "mode": "markers",
           "name": "",
           "orientation": "v",
           "showlegend": false,
           "type": "scatter",
           "x": {
            "bdata": "dowPjLFadcA=",
            "dtype": "f8"
           },
           "xaxis": "x",
           "y": {
            "bdata": "bj4zhI0EZsA=",
            "dtype": "f8"
           },
           "yaxis": "y"
          }
         ],
         "name": "57"
        },
        {
         "data": [
          {
           "hovertemplate": "frame=58<br>x=%{x}<br>y=%{y}<extra></extra>",
           "legendgroup": "",
           "marker": {
            "color": "#FF69B4",
            "symbol": "circle"
           },
           "mode": "markers",
           "name": "",
           "orientation": "v",
           "showlegend": false,
           "type": "scatter",
           "x": {
            "bdata": "bAV88fCcdMA=",
            "dtype": "f8"
           },
           "xaxis": "x",
           "y": {
            "bdata": "Hf1bkqSuaMA=",
            "dtype": "f8"
           },
           "yaxis": "y"
          }
         ],
         "name": "58"
        },
        {
         "data": [
          {
           "hovertemplate": "frame=59<br>x=%{x}<br>y=%{y}<extra></extra>",
           "legendgroup": "",
           "marker": {
            "color": "#FF69B4",
            "symbol": "circle"
           },
           "mode": "markers",
           "name": "",
           "orientation": "v",
           "showlegend": false,
           "type": "scatter",
           "x": {
            "bdata": "f9MYwfDJc8A=",
            "dtype": "f8"
           },
           "xaxis": "x",
           "y": {
            "bdata": "UmuyO0o/a8A=",
            "dtype": "f8"
           },
           "yaxis": "y"
          }
         ],
         "name": "59"
        },
        {
         "data": [
          {
           "hovertemplate": "frame=60<br>x=%{x}<br>y=%{y}<extra></extra>",
           "legendgroup": "",
           "marker": {
            "color": "#FF69B4",
            "symbol": "circle"
           },
           "mode": "markers",
           "name": "",
           "orientation": "v",
           "showlegend": false,
           "type": "scatter",
           "x": {
            "bdata": "FYf0e4ricsA=",
            "dtype": "f8"
           },
           "xaxis": "x",
           "y": {
            "bdata": "na9hndmzbcA=",
            "dtype": "f8"
           },
           "yaxis": "y"
          }
         ],
         "name": "60"
        },
        {
         "data": [
          {
           "hovertemplate": "frame=61<br>x=%{x}<br>y=%{y}<extra></extra>",
           "legendgroup": "",
           "marker": {
            "color": "#FF69B4",
            "symbol": "circle"
           },
           "mode": "markers",
           "name": "",
           "orientation": "v",
           "showlegend": false,
           "type": "scatter",
           "x": {
            "bdata": "cHImqqznccA=",
            "dtype": "f8"
           },
           "xaxis": "x",
           "y": {
            "bdata": "kS09ZOUEcMA=",
            "dtype": "f8"
           },
           "yaxis": "y"
          }
         ],
         "name": "61"
        },
        {
         "data": [
          {
           "hovertemplate": "frame=62<br>x=%{x}<br>y=%{y}<extra></extra>",
           "legendgroup": "",
           "marker": {
            "color": "#FF69B4",
            "symbol": "circle"
           },
           "mode": "markers",
           "name": "",
           "orientation": "v",
           "showlegend": false,
           "type": "scatter",
           "x": {
            "bdata": "yXns5FnacMA=",
            "dtype": "f8"
           },
           "xaxis": "x",
           "y": {
            "bdata": "xOHsrlofccA=",
            "dtype": "f8"
           },
           "yaxis": "y"
          }
         ],
         "name": "62"
        },
        {
         "data": [
          {
           "hovertemplate": "frame=63<br>x=%{x}<br>y=%{y}<extra></extra>",
           "legendgroup": "",
           "marker": {
            "color": "#FF69B4",
            "symbol": "circle"
           },
           "mode": "markers",
           "name": "",
           "orientation": "v",
           "showlegend": false,
           "type": "scatter",
           "x": {
            "bdata": "I84ymE93b8A=",
            "dtype": "f8"
           },
           "xaxis": "x",
           "y": {
            "bdata": "s0PEhCkocsA=",
            "dtype": "f8"
           },
           "yaxis": "y"
          }
         ],
         "name": "63"
        },
        {
         "data": [
          {
           "hovertemplate": "frame=64<br>x=%{x}<br>y=%{y}<extra></extra>",
           "legendgroup": "",
           "marker": {
            "color": "#FF69B4",
            "symbol": "circle"
           },
           "mode": "markers",
           "name": "",
           "orientation": "v",
           "showlegend": false,
           "type": "scatter",
           "x": {
            "bdata": "RxTNz3sZbcA=",
            "dtype": "f8"
           },
           "xaxis": "x",
           "y": {
            "bdata": "C6WA7UAec8A=",
            "dtype": "f8"
           },
           "yaxis": "y"
          }
         ],
         "name": "64"
        },
        {
         "data": [
          {
           "hovertemplate": "frame=65<br>x=%{x}<br>y=%{y}<extra></extra>",
           "legendgroup": "",
           "marker": {
            "color": "#FF69B4",
            "symbol": "circle"
           },
           "mode": "markers",
           "name": "",
           "orientation": "v",
           "showlegend": false,
           "type": "scatter",
           "x": {
            "bdata": "MEyf8KidasA=",
            "dtype": "f8"
           },
           "xaxis": "x",
           "y": {
            "bdata": "l2/6O6MAdMA=",
            "dtype": "f8"
           },
           "yaxis": "y"
          }
         ],
         "name": "65"
        },
        {
         "data": [
          {
           "hovertemplate": "frame=66<br>x=%{x}<br>y=%{y}<extra></extra>",
           "legendgroup": "",
           "marker": {
            "color": "#FF69B4",
            "symbol": "circle"
           },
           "mode": "markers",
           "name": "",
           "orientation": "v",
           "showlegend": false,
           "type": "scatter",
           "x": {
            "bdata": "YWZmZmYGaMA=",
            "dtype": "f8"
           },
           "xaxis": "x",
           "y": {
            "bdata": "xOSjE2fOdMA=",
            "dtype": "f8"
           },
           "yaxis": "y"
          }
         ],
         "name": "66"
        },
        {
         "data": [
          {
           "hovertemplate": "frame=67<br>x=%{x}<br>y=%{y}<extra></extra>",
           "legendgroup": "",
           "marker": {
            "color": "#FF69B4",
            "symbol": "circle"
           },
           "mode": "markers",
           "name": "",
           "orientation": "v",
           "showlegend": false,
           "type": "scatter",
           "x": {
            "bdata": "goIF5V9WZcA=",
            "dtype": "f8"
           },
           "xaxis": "x",
           "y": {
            "bdata": "svgWWbiGdcA=",
            "dtype": "f8"
           },
           "yaxis": "y"
          }
         ],
         "name": "67"
        },
        {
         "data": [
          {
           "hovertemplate": "frame=68<br>x=%{x}<br>y=%{y}<extra></extra>",
           "legendgroup": "",
           "marker": {
            "color": "#FF69B4",
            "symbol": "circle"
           },
           "mode": "markers",
           "name": "",
           "orientation": "v",
           "showlegend": false,
           "type": "scatter",
           "x": {
            "bdata": "H2a/p1qQYsA=",
            "dtype": "f8"
           },
           "xaxis": "x",
           "y": {
            "bdata": "HFG6DNkodsA=",
            "dtype": "f8"
           },
           "yaxis": "y"
          }
         ],
         "name": "68"
        },
        {
         "data": [
          {
           "hovertemplate": "frame=69<br>x=%{x}<br>y=%{y}<extra></extra>",
           "legendgroup": "",
           "marker": {
            "color": "#FF69B4",
            "symbol": "circle"
           },
           "mode": "markers",
           "name": "",
           "orientation": "v",
           "showlegend": false,
           "type": "scatter",
           "x": {
            "bdata": "70s+LGVuX8A=",
            "dtype": "f8"
           },
           "xaxis": "x",
           "y": {
            "bdata": "sAWcDiK0dsA=",
            "dtype": "f8"
           },
           "yaxis": "y"
          }
         ],
         "name": "69"
        },
        {
         "data": [
          {
           "hovertemplate": "frame=70<br>x=%{x}<br>y=%{y}<extra></extra>",
           "legendgroup": "",
           "marker": {
            "color": "#FF69B4",
            "symbol": "circle"
           },
           "mode": "markers",
           "name": "",
           "orientation": "v",
           "showlegend": false,
           "type": "scatter",
           "x": {
            "bdata": "00EDo66bWcA=",
            "dtype": "f8"
           },
           "xaxis": "x",
           "y": {
            "bdata": "8z24ygMod8A=",
            "dtype": "f8"
           },
           "yaxis": "y"
          }
         ],
         "name": "70"
        },
        {
         "data": [
          {
           "hovertemplate": "frame=71<br>x=%{x}<br>y=%{y}<extra></extra>",
           "legendgroup": "",
           "marker": {
            "color": "#FF69B4",
            "symbol": "circle"
           },
           "mode": "markers",
           "name": "",
           "orientation": "v",
           "showlegend": false,
           "type": "scatter",
           "x": {
            "bdata": "FgmTXJKuU8A=",
            "dtype": "f8"
           },
           "xaxis": "x",
           "y": {
            "bdata": "hxb6zAaEd8A=",
            "dtype": "f8"
           },
           "yaxis": "y"
          }
         ],
         "name": "71"
        },
        {
         "data": [
          {
           "hovertemplate": "frame=72<br>x=%{x}<br>y=%{y}<extra></extra>",
           "legendgroup": "",
           "marker": {
            "color": "#FF69B4",
            "symbol": "circle"
           },
           "mode": "markers",
           "name": "",
           "orientation": "v",
           "showlegend": false,
           "type": "scatter",
           "x": {
            "bdata": "nCByb1haS8A=",
            "dtype": "f8"
           },
           "xaxis": "x",
           "y": {
            "bdata": "dD1ePMzHd8A=",
            "dtype": "f8"
           },
           "yaxis": "y"
          }
         ],
         "name": "72"
        },
        {
         "data": [
          {
           "hovertemplate": "frame=73<br>x=%{x}<br>y=%{y}<extra></extra>",
           "legendgroup": "",
           "marker": {
            "color": "#FF69B4",
            "symbol": "circle"
           },
           "mode": "markers",
           "name": "",
           "orientation": "v",
           "showlegend": false,
           "type": "scatter",
           "x": {
            "bdata": "l1fS9LN2PsA=",
            "dtype": "f8"
           },
           "xaxis": "x",
           "y": {
            "bdata": "4Fa4PA7zd8A=",
            "dtype": "f8"
           },
           "yaxis": "y"
          }
         ],
         "name": "73"
        },
        {
         "data": [
          {
           "hovertemplate": "frame=74<br>x=%{x}<br>y=%{y}<extra></extra>",
           "legendgroup": "",
           "marker": {
            "color": "#FF69B4",
            "symbol": "circle"
           },
           "mode": "markers",
           "name": "",
           "orientation": "v",
           "showlegend": false,
           "type": "scatter",
           "x": {
            "bdata": "Frt24T9lGMA=",
            "dtype": "f8"
           },
           "xaxis": "x",
           "y": {
            "bdata": "smG2NqAFeMA=",
            "dtype": "f8"
           },
           "yaxis": "y"
          }
         ],
         "name": "74"
        },
        {
         "data": [
          {
           "hovertemplate": "frame=75<br>x=%{x}<br>y=%{y}<extra></extra>",
           "legendgroup": "",
           "marker": {
            "color": "#FF69B4",
            "symbol": "circle"
           },
           "mode": "markers",
           "name": "",
           "orientation": "v",
           "showlegend": false,
           "type": "scatter",
           "x": {
            "bdata": "cghZc11KMkA=",
            "dtype": "f8"
           },
           "xaxis": "x",
           "y": {
            "bdata": "UeDXBW//d8A=",
            "dtype": "f8"
           },
           "yaxis": "y"
          }
         ],
         "name": "75"
        },
        {
         "data": [
          {
           "hovertemplate": "frame=76<br>x=%{x}<br>y=%{y}<extra></extra>",
           "legendgroup": "",
           "marker": {
            "color": "#FF69B4",
            "symbol": "circle"
           },
           "mode": "markers",
           "name": "",
           "orientation": "v",
           "showlegend": false,
           "type": "scatter",
           "x": {
            "bdata": "om8TGJhNRUA=",
            "dtype": "f8"
           },
           "xaxis": "x",
           "y": {
            "bdata": "z2MpDIHgd8A=",
            "dtype": "f8"
           },
           "yaxis": "y"
          }
         ],
         "name": "76"
        },
        {
         "data": [
          {
           "hovertemplate": "frame=77<br>x=%{x}<br>y=%{y}<extra></extra>",
           "legendgroup": "",
           "marker": {
            "color": "#FF69B4",
            "symbol": "circle"
           },
           "mode": "markers",
           "name": "",
           "orientation": "v",
           "showlegend": false,
           "type": "scatter",
           "x": {
            "bdata": "Tv/U4wWwUEA=",
            "dtype": "f8"
           },
           "xaxis": "x",
           "y": {
            "bdata": "FyKwK/aod8A=",
            "dtype": "f8"
           },
           "yaxis": "y"
          }
         ],
         "name": "77"
        },
        {
         "data": [
          {
           "hovertemplate": "frame=78<br>x=%{x}<br>y=%{y}<extra></extra>",
           "legendgroup": "",
           "marker": {
            "color": "#FF69B4",
            "symbol": "circle"
           },
           "mode": "markers",
           "name": "",
           "orientation": "v",
           "showlegend": false,
           "type": "scatter",
           "x": {
            "bdata": "ZgoECgyoVkA=",
            "dtype": "f8"
           },
           "xaxis": "x",
           "y": {
            "bdata": "oV+MpQdZd8A=",
            "dtype": "f8"
           },
           "yaxis": "y"
          }
         ],
         "name": "78"
        },
        {
         "data": [
          {
           "hovertemplate": "frame=79<br>x=%{x}<br>y=%{y}<extra></extra>",
           "legendgroup": "",
           "marker": {
            "color": "#FF69B4",
            "symbol": "circle"
           },
           "mode": "markers",
           "name": "",
           "orientation": "v",
           "showlegend": false,
           "type": "scatter",
           "x": {
            "bdata": "vQzPX7eIXEA=",
            "dtype": "f8"
           },
           "xaxis": "x",
           "y": {
            "bdata": "a4303gfxdsA=",
            "dtype": "f8"
           },
           "yaxis": "y"
          }
         ],
         "name": "79"
        },
        {
         "data": [
          {
           "hovertemplate": "frame=80<br>x=%{x}<br>y=%{y}<extra></extra>",
           "legendgroup": "",
           "marker": {
            "color": "#FF69B4",
            "symbol": "circle"
           },
           "mode": "markers",
           "name": "",
           "orientation": "v",
           "showlegend": false,
           "type": "scatter",
           "x": {
            "bdata": "T8DCbPwlYUA=",
            "dtype": "f8"
           },
           "xaxis": "x",
           "y": {
            "bdata": "6PFFDGJxdsA=",
            "dtype": "f8"
           },
           "yaxis": "y"
          }
         ],
         "name": "80"
        },
        {
         "data": [
          {
           "hovertemplate": "frame=81<br>x=%{x}<br>y=%{y}<extra></extra>",
           "legendgroup": "",
           "marker": {
            "color": "#FF69B4",
            "symbol": "circle"
           },
           "mode": "markers",
           "name": "",
           "orientation": "v",
           "showlegend": false,
           "type": "scatter",
           "x": {
            "bdata": "dw+03u/1Y0A=",
            "dtype": "f8"
           },
           "xaxis": "x",
           "y": {
            "bdata": "SWqCwpnadcA=",
            "dtype": "f8"
           },
           "yaxis": "y"
          }
         ],
         "name": "81"
        },
        {
         "data": [
          {
           "hovertemplate": "frame=82<br>x=%{x}<br>y=%{y}<extra></extra>",
           "legendgroup": "",
           "marker": {
            "color": "#FF69B4",
            "symbol": "circle"
           },
           "mode": "markers",
           "name": "",
           "orientation": "v",
           "showlegend": false,
           "type": "scatter",
           "x": {
            "bdata": "wdSg4U+xZkA=",
            "dtype": "f8"
           },
           "xaxis": "x",
           "y": {
            "bdata": "dy6tb0otdcA=",
            "dtype": "f8"
           },
           "yaxis": "y"
          }
         ],
         "name": "82"
        },
        {
         "data": [
          {
           "hovertemplate": "frame=83<br>x=%{x}<br>y=%{y}<extra></extra>",
           "legendgroup": "",
           "marker": {
            "color": "#FF69B4",
            "symbol": "circle"
           },
           "mode": "markers",
           "name": "",
           "orientation": "v",
           "showlegend": false,
           "type": "scatter",
           "x": {
            "bdata": "aU83h0tVaUA=",
            "dtype": "f8"
           },
           "xaxis": "x",
           "y": {
            "bdata": "AmmSuiZqdMA=",
            "dtype": "f8"
           },
           "yaxis": "y"
          }
         ],
         "name": "83"
        },
        {
         "data": [
          {
           "hovertemplate": "frame=84<br>x=%{x}<br>y=%{y}<extra></extra>",
           "legendgroup": "",
           "marker": {
            "color": "#FF69B4",
            "symbol": "circle"
           },
           "mode": "markers",
           "name": "",
           "orientation": "v",
           "showlegend": false,
           "type": "scatter",
           "x": {
            "bdata": "xlIV/infa0A=",
            "dtype": "f8"
           },
           "xaxis": "x",
           "y": {
            "bdata": "2MueyveRc8A=",
            "dtype": "f8"
           },
           "yaxis": "y"
          }
         ],
         "name": "84"
        },
        {
         "data": [
          {
           "hovertemplate": "frame=85<br>x=%{x}<br>y=%{y}<extra></extra>",
           "legendgroup": "",
           "marker": {
            "color": "#FF69B4",
            "symbol": "circle"
           },
           "mode": "markers",
           "name": "",
           "orientation": "v",
           "showlegend": false,
           "type": "scatter",
           "x": {
            "bdata": "H8oTYE1MbkA=",
            "dtype": "f8"
           },
           "xaxis": "x",
           "y": {
            "bdata": "C/eEeJylcsA=",
            "dtype": "f8"
           },
           "yaxis": "y"
          }
         ],
         "name": "85"
        },
        {
         "data": [
          {
           "hovertemplate": "frame=86<br>x=%{x}<br>y=%{y}<extra></extra>",
           "legendgroup": "",
           "marker": {
            "color": "#FF69B4",
            "symbol": "circle"
           },
           "mode": "markers",
           "name": "",
           "orientation": "v",
           "showlegend": false,
           "type": "scatter",
           "x": {
            "bdata": "gU1pshpNcEA=",
            "dtype": "f8"
           },
           "xaxis": "x",
           "y": {
            "bdata": "j3CGaAimccA=",
            "dtype": "f8"
           },
           "yaxis": "y"
          }
         ],
         "name": "86"
        },
        {
         "data": [
          {
           "hovertemplate": "frame=87<br>x=%{x}<br>y=%{y}<extra></extra>",
           "legendgroup": "",
           "marker": {
            "color": "#FF69B4",
            "symbol": "circle"
           },
           "mode": "markers",
           "name": "",
           "orientation": "v",
           "showlegend": false,
           "type": "scatter",
           "x": {
            "bdata": "H4ne+kBjcUA=",
            "dtype": "f8"
           },
           "xaxis": "x",
           "y": {
            "bdata": "OPhMD0OUcMA=",
            "dtype": "f8"
           },
           "yaxis": "y"
          }
         ],
         "name": "87"
        },
        {
         "data": [
          {
           "hovertemplate": "frame=88<br>x=%{x}<br>y=%{y}<extra></extra>",
           "legendgroup": "",
           "marker": {
            "color": "#FF69B4",
            "symbol": "circle"
           },
           "mode": "markers",
           "name": "",
           "orientation": "v",
           "showlegend": false,
           "type": "scatter",
           "x": {
            "bdata": "OT9v0HpnckA=",
            "dtype": "f8"
           },
           "xaxis": "x",
           "y": {
            "bdata": "ODmuRM3ibsA=",
            "dtype": "f8"
           },
           "yaxis": "y"
          }
         ],
         "name": "88"
        },
        {
         "data": [
          {
           "hovertemplate": "frame=89<br>x=%{x}<br>y=%{y}<extra></extra>",
           "legendgroup": "",
           "marker": {
            "color": "#FF69B4",
            "symbol": "circle"
           },
           "mode": "markers",
           "name": "",
           "orientation": "v",
           "showlegend": false,
           "type": "scatter",
           "x": {
            "bdata": "MmkA9LtYc0A=",
            "dtype": "f8"
           },
           "xaxis": "x",
           "y": {
            "bdata": "tQUg6j19bMA=",
            "dtype": "f8"
           },
           "yaxis": "y"
          }
         ],
         "name": "89"
        },
        {
         "data": [
          {
           "hovertemplate": "frame=90<br>x=%{x}<br>y=%{y}<extra></extra>",
           "legendgroup": "",
           "marker": {
            "color": "#FF69B4",
            "symbol": "circle"
           },
           "mode": "markers",
           "name": "",
           "orientation": "v",
           "showlegend": false,
           "type": "scatter",
           "x": {
            "bdata": "7/vZtAs2dEA=",
            "dtype": "f8"
           },
           "xaxis": "x",
           "y": {
            "bdata": "MoJ8h1D6acA=",
            "dtype": "f8"
           },
           "yaxis": "y"
          }
         ],
         "name": "90"
        },
        {
         "data": [
          {
           "hovertemplate": "frame=91<br>x=%{x}<br>y=%{y}<extra></extra>",
           "legendgroup": "",
           "marker": {
            "color": "#FF69B4",
            "symbol": "circle"
           },
           "mode": "markers",
           "name": "",
           "orientation": "v",
           "showlegend": false,
           "type": "scatter",
           "x": {
            "bdata": "WuAB8YX+dEA=",
            "dtype": "f8"
           },
           "xaxis": "x",
           "y": {
            "bdata": "SsYQ25tcZ8A=",
            "dtype": "f8"
           },
           "yaxis": "y"
          }
         ],
         "name": "91"
        },
        {
         "data": [
          {
           "hovertemplate": "frame=92<br>x=%{x}<br>y=%{y}<extra></extra>",
           "legendgroup": "",
           "marker": {
            "color": "#FF69B4",
            "symbol": "circle"
           },
           "mode": "markers",
           "name": "",
           "orientation": "v",
           "showlegend": false,
           "type": "scatter",
           "x": {
            "bdata": "9fhlAFyxdUA=",
            "dtype": "f8"
           },
           "xaxis": "x",
           "y": {
            "bdata": "ckK+PdKmZMA=",
            "dtype": "f8"
           },
           "yaxis": "y"
          }
         ],
         "name": "92"
        },
        {
         "data": [
          {
           "hovertemplate": "frame=93<br>x=%{x}<br>y=%{y}<extra></extra>",
           "legendgroup": "",
           "marker": {
            "color": "#FF69B4",
            "symbol": "circle"
           },
           "mode": "markers",
           "name": "",
           "orientation": "v",
           "showlegend": false,
           "type": "scatter",
           "x": {
            "bdata": "KcviidVNdkA=",
            "dtype": "f8"
           },
           "xaxis": "x",
           "y": {
            "bdata": "Scta277bYcA=",
            "dtype": "f8"
           },
           "yaxis": "y"
          }
         ],
         "name": "93"
        },
        {
         "data": [
          {
           "hovertemplate": "frame=94<br>x=%{x}<br>y=%{y}<extra></extra>",
           "legendgroup": "",
           "marker": {
            "color": "#FF69B4",
            "symbol": "circle"
           },
           "mode": "markers",
           "name": "",
           "orientation": "v",
           "showlegend": false,
           "type": "scatter",
           "x": {
            "bdata": "tzRLQVHTdkA=",
            "dtype": "f8"
           },
           "xaxis": "x",
           "y": {
            "bdata": "0qPzooX8XcA=",
            "dtype": "f8"
           },
           "yaxis": "y"
          }
         ],
         "name": "94"
        },
        {
         "data": [
          {
           "hovertemplate": "frame=95<br>x=%{x}<br>y=%{y}<extra></extra>",
           "legendgroup": "",
           "marker": {
            "color": "#FF69B4",
            "symbol": "circle"
           },
           "mode": "markers",
           "name": "",
           "orientation": "v",
           "showlegend": false,
           "type": "scatter",
           "x": {
            "bdata": "QUqtjUVBd0A=",
            "dtype": "f8"
           },
           "xaxis": "x",
           "y": {
            "bdata": "vHAtb6QiWMA=",
            "dtype": "f8"
           },
           "yaxis": "y"
          }
         ],
         "name": "95"
        },
        {
         "data": [
          {
           "hovertemplate": "frame=96<br>x=%{x}<br>y=%{y}<extra></extra>",
           "legendgroup": "",
           "marker": {
            "color": "#FF69B4",
            "symbol": "circle"
           },
           "mode": "markers",
           "name": "",
           "orientation": "v",
           "showlegend": false,
           "type": "scatter",
           "x": {
            "bdata": "C/ooF0GXd0A=",
            "dtype": "f8"
           },
           "xaxis": "x",
           "y": {
            "bdata": "6QdfJ+IvUsA=",
            "dtype": "f8"
           },
           "yaxis": "y"
          }
         ],
         "name": "96"
        },
        {
         "data": [
          {
           "hovertemplate": "frame=97<br>x=%{x}<br>y=%{y}<extra></extra>",
           "legendgroup": "",
           "marker": {
            "color": "#FF69B4",
            "symbol": "circle"
           },
           "mode": "markers",
           "name": "",
           "orientation": "v",
           "showlegend": false,
           "type": "scatter",
           "x": {
            "bdata": "Mz3GO+vUd0A=",
            "dtype": "f8"
           },
           "xaxis": "x",
           "y": {
            "bdata": "d2DN+cBUSMA=",
            "dtype": "f8"
           },
           "yaxis": "y"
          }
         ],
         "name": "97"
        },
        {
         "data": [
          {
           "hovertemplate": "frame=98<br>x=%{x}<br>y=%{y}<extra></extra>",
           "legendgroup": "",
           "marker": {
            "color": "#FF69B4",
            "symbol": "circle"
           },
           "mode": "markers",
           "name": "",
           "orientation": "v",
           "showlegend": false,
           "type": "scatter",
           "x": {
            "bdata": "WWfSagT6d0A=",
            "dtype": "f8"
           },
           "xaxis": "x",
           "y": {
            "bdata": "opHI0VFhOMA=",
            "dtype": "f8"
           },
           "yaxis": "y"
          }
         ],
         "name": "98"
        },
        {
         "data": [
          {
           "hovertemplate": "frame=99<br>x=%{x}<br>y=%{y}<extra></extra>",
           "legendgroup": "",
           "marker": {
            "color": "#FF69B4",
            "symbol": "circle"
           },
           "mode": "markers",
           "name": "",
           "orientation": "v",
           "showlegend": false,
           "type": "scatter",
           "x": {
            "bdata": "ZmZmZmYGeEA=",
            "dtype": "f8"
           },
           "xaxis": "x",
           "y": {
            "bdata": "/F4Zj0iAOr0=",
            "dtype": "f8"
           },
           "yaxis": "y"
          }
         ],
         "name": "99"
        }
       ],
       "layout": {
        "font": {
         "family": "Arial",
         "size": 16
        },
        "legend": {
         "tracegroupgap": 0
        },
        "sliders": [
         {
          "active": 0,
          "currentvalue": {
           "prefix": "frame="
          },
          "len": 0.9,
          "pad": {
           "b": 10,
           "t": 60
          },
          "steps": [
           {
            "args": [
             [
              "0"
             ],
             {
              "frame": {
               "duration": 0,
               "redraw": false
              },
              "fromcurrent": true,
              "mode": "immediate",
              "transition": {
               "duration": 0,
               "easing": "linear"
              }
             }
            ],
            "label": "0",
            "method": "animate"
           },
           {
            "args": [
             [
              "1"
             ],
             {
              "frame": {
               "duration": 0,
               "redraw": false
              },
              "fromcurrent": true,
              "mode": "immediate",
              "transition": {
               "duration": 0,
               "easing": "linear"
              }
             }
            ],
            "label": "1",
            "method": "animate"
           },
           {
            "args": [
             [
              "2"
             ],
             {
              "frame": {
               "duration": 0,
               "redraw": false
              },
              "fromcurrent": true,
              "mode": "immediate",
              "transition": {
               "duration": 0,
               "easing": "linear"
              }
             }
            ],
            "label": "2",
            "method": "animate"
           },
           {
            "args": [
             [
              "3"
             ],
             {
              "frame": {
               "duration": 0,
               "redraw": false
              },
              "fromcurrent": true,
              "mode": "immediate",
              "transition": {
               "duration": 0,
               "easing": "linear"
              }
             }
            ],
            "label": "3",
            "method": "animate"
           },
           {
            "args": [
             [
              "4"
             ],
             {
              "frame": {
               "duration": 0,
               "redraw": false
              },
              "fromcurrent": true,
              "mode": "immediate",
              "transition": {
               "duration": 0,
               "easing": "linear"
              }
             }
            ],
            "label": "4",
            "method": "animate"
           },
           {
            "args": [
             [
              "5"
             ],
             {
              "frame": {
               "duration": 0,
               "redraw": false
              },
              "fromcurrent": true,
              "mode": "immediate",
              "transition": {
               "duration": 0,
               "easing": "linear"
              }
             }
            ],
            "label": "5",
            "method": "animate"
           },
           {
            "args": [
             [
              "6"
             ],
             {
              "frame": {
               "duration": 0,
               "redraw": false
              },
              "fromcurrent": true,
              "mode": "immediate",
              "transition": {
               "duration": 0,
               "easing": "linear"
              }
             }
            ],
            "label": "6",
            "method": "animate"
           },
           {
            "args": [
             [
              "7"
             ],
             {
              "frame": {
               "duration": 0,
               "redraw": false
              },
              "fromcurrent": true,
              "mode": "immediate",
              "transition": {
               "duration": 0,
               "easing": "linear"
              }
             }
            ],
            "label": "7",
            "method": "animate"
           },
           {
            "args": [
             [
              "8"
             ],
             {
              "frame": {
               "duration": 0,
               "redraw": false
              },
              "fromcurrent": true,
              "mode": "immediate",
              "transition": {
               "duration": 0,
               "easing": "linear"
              }
             }
            ],
            "label": "8",
            "method": "animate"
           },
           {
            "args": [
             [
              "9"
             ],
             {
              "frame": {
               "duration": 0,
               "redraw": false
              },
              "fromcurrent": true,
              "mode": "immediate",
              "transition": {
               "duration": 0,
               "easing": "linear"
              }
             }
            ],
            "label": "9",
            "method": "animate"
           },
           {
            "args": [
             [
              "10"
             ],
             {
              "frame": {
               "duration": 0,
               "redraw": false
              },
              "fromcurrent": true,
              "mode": "immediate",
              "transition": {
               "duration": 0,
               "easing": "linear"
              }
             }
            ],
            "label": "10",
            "method": "animate"
           },
           {
            "args": [
             [
              "11"
             ],
             {
              "frame": {
               "duration": 0,
               "redraw": false
              },
              "fromcurrent": true,
              "mode": "immediate",
              "transition": {
               "duration": 0,
               "easing": "linear"
              }
             }
            ],
            "label": "11",
            "method": "animate"
           },
           {
            "args": [
             [
              "12"
             ],
             {
              "frame": {
               "duration": 0,
               "redraw": false
              },
              "fromcurrent": true,
              "mode": "immediate",
              "transition": {
               "duration": 0,
               "easing": "linear"
              }
             }
            ],
            "label": "12",
            "method": "animate"
           },
           {
            "args": [
             [
              "13"
             ],
             {
              "frame": {
               "duration": 0,
               "redraw": false
              },
              "fromcurrent": true,
              "mode": "immediate",
              "transition": {
               "duration": 0,
               "easing": "linear"
              }
             }
            ],
            "label": "13",
            "method": "animate"
           },
           {
            "args": [
             [
              "14"
             ],
             {
              "frame": {
               "duration": 0,
               "redraw": false
              },
              "fromcurrent": true,
              "mode": "immediate",
              "transition": {
               "duration": 0,
               "easing": "linear"
              }
             }
            ],
            "label": "14",
            "method": "animate"
           },
           {
            "args": [
             [
              "15"
             ],
             {
              "frame": {
               "duration": 0,
               "redraw": false
              },
              "fromcurrent": true,
              "mode": "immediate",
              "transition": {
               "duration": 0,
               "easing": "linear"
              }
             }
            ],
            "label": "15",
            "method": "animate"
           },
           {
            "args": [
             [
              "16"
             ],
             {
              "frame": {
               "duration": 0,
               "redraw": false
              },
              "fromcurrent": true,
              "mode": "immediate",
              "transition": {
               "duration": 0,
               "easing": "linear"
              }
             }
            ],
            "label": "16",
            "method": "animate"
           },
           {
            "args": [
             [
              "17"
             ],
             {
              "frame": {
               "duration": 0,
               "redraw": false
              },
              "fromcurrent": true,
              "mode": "immediate",
              "transition": {
               "duration": 0,
               "easing": "linear"
              }
             }
            ],
            "label": "17",
            "method": "animate"
           },
           {
            "args": [
             [
              "18"
             ],
             {
              "frame": {
               "duration": 0,
               "redraw": false
              },
              "fromcurrent": true,
              "mode": "immediate",
              "transition": {
               "duration": 0,
               "easing": "linear"
              }
             }
            ],
            "label": "18",
            "method": "animate"
           },
           {
            "args": [
             [
              "19"
             ],
             {
              "frame": {
               "duration": 0,
               "redraw": false
              },
              "fromcurrent": true,
              "mode": "immediate",
              "transition": {
               "duration": 0,
               "easing": "linear"
              }
             }
            ],
            "label": "19",
            "method": "animate"
           },
           {
            "args": [
             [
              "20"
             ],
             {
              "frame": {
               "duration": 0,
               "redraw": false
              },
              "fromcurrent": true,
              "mode": "immediate",
              "transition": {
               "duration": 0,
               "easing": "linear"
              }
             }
            ],
            "label": "20",
            "method": "animate"
           },
           {
            "args": [
             [
              "21"
             ],
             {
              "frame": {
               "duration": 0,
               "redraw": false
              },
              "fromcurrent": true,
              "mode": "immediate",
              "transition": {
               "duration": 0,
               "easing": "linear"
              }
             }
            ],
            "label": "21",
            "method": "animate"
           },
           {
            "args": [
             [
              "22"
             ],
             {
              "frame": {
               "duration": 0,
               "redraw": false
              },
              "fromcurrent": true,
              "mode": "immediate",
              "transition": {
               "duration": 0,
               "easing": "linear"
              }
             }
            ],
            "label": "22",
            "method": "animate"
           },
           {
            "args": [
             [
              "23"
             ],
             {
              "frame": {
               "duration": 0,
               "redraw": false
              },
              "fromcurrent": true,
              "mode": "immediate",
              "transition": {
               "duration": 0,
               "easing": "linear"
              }
             }
            ],
            "label": "23",
            "method": "animate"
           },
           {
            "args": [
             [
              "24"
             ],
             {
              "frame": {
               "duration": 0,
               "redraw": false
              },
              "fromcurrent": true,
              "mode": "immediate",
              "transition": {
               "duration": 0,
               "easing": "linear"
              }
             }
            ],
            "label": "24",
            "method": "animate"
           },
           {
            "args": [
             [
              "25"
             ],
             {
              "frame": {
               "duration": 0,
               "redraw": false
              },
              "fromcurrent": true,
              "mode": "immediate",
              "transition": {
               "duration": 0,
               "easing": "linear"
              }
             }
            ],
            "label": "25",
            "method": "animate"
           },
           {
            "args": [
             [
              "26"
             ],
             {
              "frame": {
               "duration": 0,
               "redraw": false
              },
              "fromcurrent": true,
              "mode": "immediate",
              "transition": {
               "duration": 0,
               "easing": "linear"
              }
             }
            ],
            "label": "26",
            "method": "animate"
           },
           {
            "args": [
             [
              "27"
             ],
             {
              "frame": {
               "duration": 0,
               "redraw": false
              },
              "fromcurrent": true,
              "mode": "immediate",
              "transition": {
               "duration": 0,
               "easing": "linear"
              }
             }
            ],
            "label": "27",
            "method": "animate"
           },
           {
            "args": [
             [
              "28"
             ],
             {
              "frame": {
               "duration": 0,
               "redraw": false
              },
              "fromcurrent": true,
              "mode": "immediate",
              "transition": {
               "duration": 0,
               "easing": "linear"
              }
             }
            ],
            "label": "28",
            "method": "animate"
           },
           {
            "args": [
             [
              "29"
             ],
             {
              "frame": {
               "duration": 0,
               "redraw": false
              },
              "fromcurrent": true,
              "mode": "immediate",
              "transition": {
               "duration": 0,
               "easing": "linear"
              }
             }
            ],
            "label": "29",
            "method": "animate"
           },
           {
            "args": [
             [
              "30"
             ],
             {
              "frame": {
               "duration": 0,
               "redraw": false
              },
              "fromcurrent": true,
              "mode": "immediate",
              "transition": {
               "duration": 0,
               "easing": "linear"
              }
             }
            ],
            "label": "30",
            "method": "animate"
           },
           {
            "args": [
             [
              "31"
             ],
             {
              "frame": {
               "duration": 0,
               "redraw": false
              },
              "fromcurrent": true,
              "mode": "immediate",
              "transition": {
               "duration": 0,
               "easing": "linear"
              }
             }
            ],
            "label": "31",
            "method": "animate"
           },
           {
            "args": [
             [
              "32"
             ],
             {
              "frame": {
               "duration": 0,
               "redraw": false
              },
              "fromcurrent": true,
              "mode": "immediate",
              "transition": {
               "duration": 0,
               "easing": "linear"
              }
             }
            ],
            "label": "32",
            "method": "animate"
           },
           {
            "args": [
             [
              "33"
             ],
             {
              "frame": {
               "duration": 0,
               "redraw": false
              },
              "fromcurrent": true,
              "mode": "immediate",
              "transition": {
               "duration": 0,
               "easing": "linear"
              }
             }
            ],
            "label": "33",
            "method": "animate"
           },
           {
            "args": [
             [
              "34"
             ],
             {
              "frame": {
               "duration": 0,
               "redraw": false
              },
              "fromcurrent": true,
              "mode": "immediate",
              "transition": {
               "duration": 0,
               "easing": "linear"
              }
             }
            ],
            "label": "34",
            "method": "animate"
           },
           {
            "args": [
             [
              "35"
             ],
             {
              "frame": {
               "duration": 0,
               "redraw": false
              },
              "fromcurrent": true,
              "mode": "immediate",
              "transition": {
               "duration": 0,
               "easing": "linear"
              }
             }
            ],
            "label": "35",
            "method": "animate"
           },
           {
            "args": [
             [
              "36"
             ],
             {
              "frame": {
               "duration": 0,
               "redraw": false
              },
              "fromcurrent": true,
              "mode": "immediate",
              "transition": {
               "duration": 0,
               "easing": "linear"
              }
             }
            ],
            "label": "36",
            "method": "animate"
           },
           {
            "args": [
             [
              "37"
             ],
             {
              "frame": {
               "duration": 0,
               "redraw": false
              },
              "fromcurrent": true,
              "mode": "immediate",
              "transition": {
               "duration": 0,
               "easing": "linear"
              }
             }
            ],
            "label": "37",
            "method": "animate"
           },
           {
            "args": [
             [
              "38"
             ],
             {
              "frame": {
               "duration": 0,
               "redraw": false
              },
              "fromcurrent": true,
              "mode": "immediate",
              "transition": {
               "duration": 0,
               "easing": "linear"
              }
             }
            ],
            "label": "38",
            "method": "animate"
           },
           {
            "args": [
             [
              "39"
             ],
             {
              "frame": {
               "duration": 0,
               "redraw": false
              },
              "fromcurrent": true,
              "mode": "immediate",
              "transition": {
               "duration": 0,
               "easing": "linear"
              }
             }
            ],
            "label": "39",
            "method": "animate"
           },
           {
            "args": [
             [
              "40"
             ],
             {
              "frame": {
               "duration": 0,
               "redraw": false
              },
              "fromcurrent": true,
              "mode": "immediate",
              "transition": {
               "duration": 0,
               "easing": "linear"
              }
             }
            ],
            "label": "40",
            "method": "animate"
           },
           {
            "args": [
             [
              "41"
             ],
             {
              "frame": {
               "duration": 0,
               "redraw": false
              },
              "fromcurrent": true,
              "mode": "immediate",
              "transition": {
               "duration": 0,
               "easing": "linear"
              }
             }
            ],
            "label": "41",
            "method": "animate"
           },
           {
            "args": [
             [
              "42"
             ],
             {
              "frame": {
               "duration": 0,
               "redraw": false
              },
              "fromcurrent": true,
              "mode": "immediate",
              "transition": {
               "duration": 0,
               "easing": "linear"
              }
             }
            ],
            "label": "42",
            "method": "animate"
           },
           {
            "args": [
             [
              "43"
             ],
             {
              "frame": {
               "duration": 0,
               "redraw": false
              },
              "fromcurrent": true,
              "mode": "immediate",
              "transition": {
               "duration": 0,
               "easing": "linear"
              }
             }
            ],
            "label": "43",
            "method": "animate"
           },
           {
            "args": [
             [
              "44"
             ],
             {
              "frame": {
               "duration": 0,
               "redraw": false
              },
              "fromcurrent": true,
              "mode": "immediate",
              "transition": {
               "duration": 0,
               "easing": "linear"
              }
             }
            ],
            "label": "44",
            "method": "animate"
           },
           {
            "args": [
             [
              "45"
             ],
             {
              "frame": {
               "duration": 0,
               "redraw": false
              },
              "fromcurrent": true,
              "mode": "immediate",
              "transition": {
               "duration": 0,
               "easing": "linear"
              }
             }
            ],
            "label": "45",
            "method": "animate"
           },
           {
            "args": [
             [
              "46"
             ],
             {
              "frame": {
               "duration": 0,
               "redraw": false
              },
              "fromcurrent": true,
              "mode": "immediate",
              "transition": {
               "duration": 0,
               "easing": "linear"
              }
             }
            ],
            "label": "46",
            "method": "animate"
           },
           {
            "args": [
             [
              "47"
             ],
             {
              "frame": {
               "duration": 0,
               "redraw": false
              },
              "fromcurrent": true,
              "mode": "immediate",
              "transition": {
               "duration": 0,
               "easing": "linear"
              }
             }
            ],
            "label": "47",
            "method": "animate"
           },
           {
            "args": [
             [
              "48"
             ],
             {
              "frame": {
               "duration": 0,
               "redraw": false
              },
              "fromcurrent": true,
              "mode": "immediate",
              "transition": {
               "duration": 0,
               "easing": "linear"
              }
             }
            ],
            "label": "48",
            "method": "animate"
           },
           {
            "args": [
             [
              "49"
             ],
             {
              "frame": {
               "duration": 0,
               "redraw": false
              },
              "fromcurrent": true,
              "mode": "immediate",
              "transition": {
               "duration": 0,
               "easing": "linear"
              }
             }
            ],
            "label": "49",
            "method": "animate"
           },
           {
            "args": [
             [
              "50"
             ],
             {
              "frame": {
               "duration": 0,
               "redraw": false
              },
              "fromcurrent": true,
              "mode": "immediate",
              "transition": {
               "duration": 0,
               "easing": "linear"
              }
             }
            ],
            "label": "50",
            "method": "animate"
           },
           {
            "args": [
             [
              "51"
             ],
             {
              "frame": {
               "duration": 0,
               "redraw": false
              },
              "fromcurrent": true,
              "mode": "immediate",
              "transition": {
               "duration": 0,
               "easing": "linear"
              }
             }
            ],
            "label": "51",
            "method": "animate"
           },
           {
            "args": [
             [
              "52"
             ],
             {
              "frame": {
               "duration": 0,
               "redraw": false
              },
              "fromcurrent": true,
              "mode": "immediate",
              "transition": {
               "duration": 0,
               "easing": "linear"
              }
             }
            ],
            "label": "52",
            "method": "animate"
           },
           {
            "args": [
             [
              "53"
             ],
             {
              "frame": {
               "duration": 0,
               "redraw": false
              },
              "fromcurrent": true,
              "mode": "immediate",
              "transition": {
               "duration": 0,
               "easing": "linear"
              }
             }
            ],
            "label": "53",
            "method": "animate"
           },
           {
            "args": [
             [
              "54"
             ],
             {
              "frame": {
               "duration": 0,
               "redraw": false
              },
              "fromcurrent": true,
              "mode": "immediate",
              "transition": {
               "duration": 0,
               "easing": "linear"
              }
             }
            ],
            "label": "54",
            "method": "animate"
           },
           {
            "args": [
             [
              "55"
             ],
             {
              "frame": {
               "duration": 0,
               "redraw": false
              },
              "fromcurrent": true,
              "mode": "immediate",
              "transition": {
               "duration": 0,
               "easing": "linear"
              }
             }
            ],
            "label": "55",
            "method": "animate"
           },
           {
            "args": [
             [
              "56"
             ],
             {
              "frame": {
               "duration": 0,
               "redraw": false
              },
              "fromcurrent": true,
              "mode": "immediate",
              "transition": {
               "duration": 0,
               "easing": "linear"
              }
             }
            ],
            "label": "56",
            "method": "animate"
           },
           {
            "args": [
             [
              "57"
             ],
             {
              "frame": {
               "duration": 0,
               "redraw": false
              },
              "fromcurrent": true,
              "mode": "immediate",
              "transition": {
               "duration": 0,
               "easing": "linear"
              }
             }
            ],
            "label": "57",
            "method": "animate"
           },
           {
            "args": [
             [
              "58"
             ],
             {
              "frame": {
               "duration": 0,
               "redraw": false
              },
              "fromcurrent": true,
              "mode": "immediate",
              "transition": {
               "duration": 0,
               "easing": "linear"
              }
             }
            ],
            "label": "58",
            "method": "animate"
           },
           {
            "args": [
             [
              "59"
             ],
             {
              "frame": {
               "duration": 0,
               "redraw": false
              },
              "fromcurrent": true,
              "mode": "immediate",
              "transition": {
               "duration": 0,
               "easing": "linear"
              }
             }
            ],
            "label": "59",
            "method": "animate"
           },
           {
            "args": [
             [
              "60"
             ],
             {
              "frame": {
               "duration": 0,
               "redraw": false
              },
              "fromcurrent": true,
              "mode": "immediate",
              "transition": {
               "duration": 0,
               "easing": "linear"
              }
             }
            ],
            "label": "60",
            "method": "animate"
           },
           {
            "args": [
             [
              "61"
             ],
             {
              "frame": {
               "duration": 0,
               "redraw": false
              },
              "fromcurrent": true,
              "mode": "immediate",
              "transition": {
               "duration": 0,
               "easing": "linear"
              }
             }
            ],
            "label": "61",
            "method": "animate"
           },
           {
            "args": [
             [
              "62"
             ],
             {
              "frame": {
               "duration": 0,
               "redraw": false
              },
              "fromcurrent": true,
              "mode": "immediate",
              "transition": {
               "duration": 0,
               "easing": "linear"
              }
             }
            ],
            "label": "62",
            "method": "animate"
           },
           {
            "args": [
             [
              "63"
             ],
             {
              "frame": {
               "duration": 0,
               "redraw": false
              },
              "fromcurrent": true,
              "mode": "immediate",
              "transition": {
               "duration": 0,
               "easing": "linear"
              }
             }
            ],
            "label": "63",
            "method": "animate"
           },
           {
            "args": [
             [
              "64"
             ],
             {
              "frame": {
               "duration": 0,
               "redraw": false
              },
              "fromcurrent": true,
              "mode": "immediate",
              "transition": {
               "duration": 0,
               "easing": "linear"
              }
             }
            ],
            "label": "64",
            "method": "animate"
           },
           {
            "args": [
             [
              "65"
             ],
             {
              "frame": {
               "duration": 0,
               "redraw": false
              },
              "fromcurrent": true,
              "mode": "immediate",
              "transition": {
               "duration": 0,
               "easing": "linear"
              }
             }
            ],
            "label": "65",
            "method": "animate"
           },
           {
            "args": [
             [
              "66"
             ],
             {
              "frame": {
               "duration": 0,
               "redraw": false
              },
              "fromcurrent": true,
              "mode": "immediate",
              "transition": {
               "duration": 0,
               "easing": "linear"
              }
             }
            ],
            "label": "66",
            "method": "animate"
           },
           {
            "args": [
             [
              "67"
             ],
             {
              "frame": {
               "duration": 0,
               "redraw": false
              },
              "fromcurrent": true,
              "mode": "immediate",
              "transition": {
               "duration": 0,
               "easing": "linear"
              }
             }
            ],
            "label": "67",
            "method": "animate"
           },
           {
            "args": [
             [
              "68"
             ],
             {
              "frame": {
               "duration": 0,
               "redraw": false
              },
              "fromcurrent": true,
              "mode": "immediate",
              "transition": {
               "duration": 0,
               "easing": "linear"
              }
             }
            ],
            "label": "68",
            "method": "animate"
           },
           {
            "args": [
             [
              "69"
             ],
             {
              "frame": {
               "duration": 0,
               "redraw": false
              },
              "fromcurrent": true,
              "mode": "immediate",
              "transition": {
               "duration": 0,
               "easing": "linear"
              }
             }
            ],
            "label": "69",
            "method": "animate"
           },
           {
            "args": [
             [
              "70"
             ],
             {
              "frame": {
               "duration": 0,
               "redraw": false
              },
              "fromcurrent": true,
              "mode": "immediate",
              "transition": {
               "duration": 0,
               "easing": "linear"
              }
             }
            ],
            "label": "70",
            "method": "animate"
           },
           {
            "args": [
             [
              "71"
             ],
             {
              "frame": {
               "duration": 0,
               "redraw": false
              },
              "fromcurrent": true,
              "mode": "immediate",
              "transition": {
               "duration": 0,
               "easing": "linear"
              }
             }
            ],
            "label": "71",
            "method": "animate"
           },
           {
            "args": [
             [
              "72"
             ],
             {
              "frame": {
               "duration": 0,
               "redraw": false
              },
              "fromcurrent": true,
              "mode": "immediate",
              "transition": {
               "duration": 0,
               "easing": "linear"
              }
             }
            ],
            "label": "72",
            "method": "animate"
           },
           {
            "args": [
             [
              "73"
             ],
             {
              "frame": {
               "duration": 0,
               "redraw": false
              },
              "fromcurrent": true,
              "mode": "immediate",
              "transition": {
               "duration": 0,
               "easing": "linear"
              }
             }
            ],
            "label": "73",
            "method": "animate"
           },
           {
            "args": [
             [
              "74"
             ],
             {
              "frame": {
               "duration": 0,
               "redraw": false
              },
              "fromcurrent": true,
              "mode": "immediate",
              "transition": {
               "duration": 0,
               "easing": "linear"
              }
             }
            ],
            "label": "74",
            "method": "animate"
           },
           {
            "args": [
             [
              "75"
             ],
             {
              "frame": {
               "duration": 0,
               "redraw": false
              },
              "fromcurrent": true,
              "mode": "immediate",
              "transition": {
               "duration": 0,
               "easing": "linear"
              }
             }
            ],
            "label": "75",
            "method": "animate"
           },
           {
            "args": [
             [
              "76"
             ],
             {
              "frame": {
               "duration": 0,
               "redraw": false
              },
              "fromcurrent": true,
              "mode": "immediate",
              "transition": {
               "duration": 0,
               "easing": "linear"
              }
             }
            ],
            "label": "76",
            "method": "animate"
           },
           {
            "args": [
             [
              "77"
             ],
             {
              "frame": {
               "duration": 0,
               "redraw": false
              },
              "fromcurrent": true,
              "mode": "immediate",
              "transition": {
               "duration": 0,
               "easing": "linear"
              }
             }
            ],
            "label": "77",
            "method": "animate"
           },
           {
            "args": [
             [
              "78"
             ],
             {
              "frame": {
               "duration": 0,
               "redraw": false
              },
              "fromcurrent": true,
              "mode": "immediate",
              "transition": {
               "duration": 0,
               "easing": "linear"
              }
             }
            ],
            "label": "78",
            "method": "animate"
           },
           {
            "args": [
             [
              "79"
             ],
             {
              "frame": {
               "duration": 0,
               "redraw": false
              },
              "fromcurrent": true,
              "mode": "immediate",
              "transition": {
               "duration": 0,
               "easing": "linear"
              }
             }
            ],
            "label": "79",
            "method": "animate"
           },
           {
            "args": [
             [
              "80"
             ],
             {
              "frame": {
               "duration": 0,
               "redraw": false
              },
              "fromcurrent": true,
              "mode": "immediate",
              "transition": {
               "duration": 0,
               "easing": "linear"
              }
             }
            ],
            "label": "80",
            "method": "animate"
           },
           {
            "args": [
             [
              "81"
             ],
             {
              "frame": {
               "duration": 0,
               "redraw": false
              },
              "fromcurrent": true,
              "mode": "immediate",
              "transition": {
               "duration": 0,
               "easing": "linear"
              }
             }
            ],
            "label": "81",
            "method": "animate"
           },
           {
            "args": [
             [
              "82"
             ],
             {
              "frame": {
               "duration": 0,
               "redraw": false
              },
              "fromcurrent": true,
              "mode": "immediate",
              "transition": {
               "duration": 0,
               "easing": "linear"
              }
             }
            ],
            "label": "82",
            "method": "animate"
           },
           {
            "args": [
             [
              "83"
             ],
             {
              "frame": {
               "duration": 0,
               "redraw": false
              },
              "fromcurrent": true,
              "mode": "immediate",
              "transition": {
               "duration": 0,
               "easing": "linear"
              }
             }
            ],
            "label": "83",
            "method": "animate"
           },
           {
            "args": [
             [
              "84"
             ],
             {
              "frame": {
               "duration": 0,
               "redraw": false
              },
              "fromcurrent": true,
              "mode": "immediate",
              "transition": {
               "duration": 0,
               "easing": "linear"
              }
             }
            ],
            "label": "84",
            "method": "animate"
           },
           {
            "args": [
             [
              "85"
             ],
             {
              "frame": {
               "duration": 0,
               "redraw": false
              },
              "fromcurrent": true,
              "mode": "immediate",
              "transition": {
               "duration": 0,
               "easing": "linear"
              }
             }
            ],
            "label": "85",
            "method": "animate"
           },
           {
            "args": [
             [
              "86"
             ],
             {
              "frame": {
               "duration": 0,
               "redraw": false
              },
              "fromcurrent": true,
              "mode": "immediate",
              "transition": {
               "duration": 0,
               "easing": "linear"
              }
             }
            ],
            "label": "86",
            "method": "animate"
           },
           {
            "args": [
             [
              "87"
             ],
             {
              "frame": {
               "duration": 0,
               "redraw": false
              },
              "fromcurrent": true,
              "mode": "immediate",
              "transition": {
               "duration": 0,
               "easing": "linear"
              }
             }
            ],
            "label": "87",
            "method": "animate"
           },
           {
            "args": [
             [
              "88"
             ],
             {
              "frame": {
               "duration": 0,
               "redraw": false
              },
              "fromcurrent": true,
              "mode": "immediate",
              "transition": {
               "duration": 0,
               "easing": "linear"
              }
             }
            ],
            "label": "88",
            "method": "animate"
           },
           {
            "args": [
             [
              "89"
             ],
             {
              "frame": {
               "duration": 0,
               "redraw": false
              },
              "fromcurrent": true,
              "mode": "immediate",
              "transition": {
               "duration": 0,
               "easing": "linear"
              }
             }
            ],
            "label": "89",
            "method": "animate"
           },
           {
            "args": [
             [
              "90"
             ],
             {
              "frame": {
               "duration": 0,
               "redraw": false
              },
              "fromcurrent": true,
              "mode": "immediate",
              "transition": {
               "duration": 0,
               "easing": "linear"
              }
             }
            ],
            "label": "90",
            "method": "animate"
           },
           {
            "args": [
             [
              "91"
             ],
             {
              "frame": {
               "duration": 0,
               "redraw": false
              },
              "fromcurrent": true,
              "mode": "immediate",
              "transition": {
               "duration": 0,
               "easing": "linear"
              }
             }
            ],
            "label": "91",
            "method": "animate"
           },
           {
            "args": [
             [
              "92"
             ],
             {
              "frame": {
               "duration": 0,
               "redraw": false
              },
              "fromcurrent": true,
              "mode": "immediate",
              "transition": {
               "duration": 0,
               "easing": "linear"
              }
             }
            ],
            "label": "92",
            "method": "animate"
           },
           {
            "args": [
             [
              "93"
             ],
             {
              "frame": {
               "duration": 0,
               "redraw": false
              },
              "fromcurrent": true,
              "mode": "immediate",
              "transition": {
               "duration": 0,
               "easing": "linear"
              }
             }
            ],
            "label": "93",
            "method": "animate"
           },
           {
            "args": [
             [
              "94"
             ],
             {
              "frame": {
               "duration": 0,
               "redraw": false
              },
              "fromcurrent": true,
              "mode": "immediate",
              "transition": {
               "duration": 0,
               "easing": "linear"
              }
             }
            ],
            "label": "94",
            "method": "animate"
           },
           {
            "args": [
             [
              "95"
             ],
             {
              "frame": {
               "duration": 0,
               "redraw": false
              },
              "fromcurrent": true,
              "mode": "immediate",
              "transition": {
               "duration": 0,
               "easing": "linear"
              }
             }
            ],
            "label": "95",
            "method": "animate"
           },
           {
            "args": [
             [
              "96"
             ],
             {
              "frame": {
               "duration": 0,
               "redraw": false
              },
              "fromcurrent": true,
              "mode": "immediate",
              "transition": {
               "duration": 0,
               "easing": "linear"
              }
             }
            ],
            "label": "96",
            "method": "animate"
           },
           {
            "args": [
             [
              "97"
             ],
             {
              "frame": {
               "duration": 0,
               "redraw": false
              },
              "fromcurrent": true,
              "mode": "immediate",
              "transition": {
               "duration": 0,
               "easing": "linear"
              }
             }
            ],
            "label": "97",
            "method": "animate"
           },
           {
            "args": [
             [
              "98"
             ],
             {
              "frame": {
               "duration": 0,
               "redraw": false
              },
              "fromcurrent": true,
              "mode": "immediate",
              "transition": {
               "duration": 0,
               "easing": "linear"
              }
             }
            ],
            "label": "98",
            "method": "animate"
           },
           {
            "args": [
             [
              "99"
             ],
             {
              "frame": {
               "duration": 0,
               "redraw": false
              },
              "fromcurrent": true,
              "mode": "immediate",
              "transition": {
               "duration": 0,
               "easing": "linear"
              }
             }
            ],
            "label": "99",
            "method": "animate"
           }
          ],
          "x": 0.1,
          "xanchor": "left",
          "y": 0,
          "yanchor": "top"
         }
        ],
        "template": {
         "data": {
          "bar": [
           {
            "error_x": {
             "color": "#f2f5fa"
            },
            "error_y": {
             "color": "#f2f5fa"
            },
            "marker": {
             "line": {
              "color": "rgb(17,17,17)",
              "width": 0.5
             },
             "pattern": {
              "fillmode": "overlay",
              "size": 10,
              "solidity": 0.2
             }
            },
            "type": "bar"
           }
          ],
          "barpolar": [
           {
            "marker": {
             "line": {
              "color": "rgb(17,17,17)",
              "width": 0.5
             },
             "pattern": {
              "fillmode": "overlay",
              "size": 10,
              "solidity": 0.2
             }
            },
            "type": "barpolar"
           }
          ],
          "carpet": [
           {
            "aaxis": {
             "endlinecolor": "#A2B1C6",
             "gridcolor": "#506784",
             "linecolor": "#506784",
             "minorgridcolor": "#506784",
             "startlinecolor": "#A2B1C6"
            },
            "baxis": {
             "endlinecolor": "#A2B1C6",
             "gridcolor": "#506784",
             "linecolor": "#506784",
             "minorgridcolor": "#506784",
             "startlinecolor": "#A2B1C6"
            },
            "type": "carpet"
           }
          ],
          "choropleth": [
           {
            "colorbar": {
             "outlinewidth": 0,
             "ticks": ""
            },
            "type": "choropleth"
           }
          ],
          "contour": [
           {
            "colorbar": {
             "outlinewidth": 0,
             "ticks": ""
            },
            "colorscale": [
             [
              0,
              "#0d0887"
             ],
             [
              0.1111111111111111,
              "#46039f"
             ],
             [
              0.2222222222222222,
              "#7201a8"
             ],
             [
              0.3333333333333333,
              "#9c179e"
             ],
             [
              0.4444444444444444,
              "#bd3786"
             ],
             [
              0.5555555555555556,
              "#d8576b"
             ],
             [
              0.6666666666666666,
              "#ed7953"
             ],
             [
              0.7777777777777778,
              "#fb9f3a"
             ],
             [
              0.8888888888888888,
              "#fdca26"
             ],
             [
              1,
              "#f0f921"
             ]
            ],
            "type": "contour"
           }
          ],
          "contourcarpet": [
           {
            "colorbar": {
             "outlinewidth": 0,
             "ticks": ""
            },
            "type": "contourcarpet"
           }
          ],
          "heatmap": [
           {
            "colorbar": {
             "outlinewidth": 0,
             "ticks": ""
            },
            "colorscale": [
             [
              0,
              "#0d0887"
             ],
             [
              0.1111111111111111,
              "#46039f"
             ],
             [
              0.2222222222222222,
              "#7201a8"
             ],
             [
              0.3333333333333333,
              "#9c179e"
             ],
             [
              0.4444444444444444,
              "#bd3786"
             ],
             [
              0.5555555555555556,
              "#d8576b"
             ],
             [
              0.6666666666666666,
              "#ed7953"
             ],
             [
              0.7777777777777778,
              "#fb9f3a"
             ],
             [
              0.8888888888888888,
              "#fdca26"
             ],
             [
              1,
              "#f0f921"
             ]
            ],
            "type": "heatmap"
           }
          ],
          "histogram": [
           {
            "marker": {
             "pattern": {
              "fillmode": "overlay",
              "size": 10,
              "solidity": 0.2
             }
            },
            "type": "histogram"
           }
          ],
          "histogram2d": [
           {
            "colorbar": {
             "outlinewidth": 0,
             "ticks": ""
            },
            "colorscale": [
             [
              0,
              "#0d0887"
             ],
             [
              0.1111111111111111,
              "#46039f"
             ],
             [
              0.2222222222222222,
              "#7201a8"
             ],
             [
              0.3333333333333333,
              "#9c179e"
             ],
             [
              0.4444444444444444,
              "#bd3786"
             ],
             [
              0.5555555555555556,
              "#d8576b"
             ],
             [
              0.6666666666666666,
              "#ed7953"
             ],
             [
              0.7777777777777778,
              "#fb9f3a"
             ],
             [
              0.8888888888888888,
              "#fdca26"
             ],
             [
              1,
              "#f0f921"
             ]
            ],
            "type": "histogram2d"
           }
          ],
          "histogram2dcontour": [
           {
            "colorbar": {
             "outlinewidth": 0,
             "ticks": ""
            },
            "colorscale": [
             [
              0,
              "#0d0887"
             ],
             [
              0.1111111111111111,
              "#46039f"
             ],
             [
              0.2222222222222222,
              "#7201a8"
             ],
             [
              0.3333333333333333,
              "#9c179e"
             ],
             [
              0.4444444444444444,
              "#bd3786"
             ],
             [
              0.5555555555555556,
              "#d8576b"
             ],
             [
              0.6666666666666666,
              "#ed7953"
             ],
             [
              0.7777777777777778,
              "#fb9f3a"
             ],
             [
              0.8888888888888888,
              "#fdca26"
             ],
             [
              1,
              "#f0f921"
             ]
            ],
            "type": "histogram2dcontour"
           }
          ],
          "mesh3d": [
           {
            "colorbar": {
             "outlinewidth": 0,
             "ticks": ""
            },
            "type": "mesh3d"
           }
          ],
          "parcoords": [
           {
            "line": {
             "colorbar": {
              "outlinewidth": 0,
              "ticks": ""
             }
            },
            "type": "parcoords"
           }
          ],
          "pie": [
           {
            "automargin": true,
            "type": "pie"
           }
          ],
          "scatter": [
           {
            "marker": {
             "line": {
              "color": "#283442"
             }
            },
            "type": "scatter"
           }
          ],
          "scatter3d": [
           {
            "line": {
             "colorbar": {
              "outlinewidth": 0,
              "ticks": ""
             }
            },
            "marker": {
             "colorbar": {
              "outlinewidth": 0,
              "ticks": ""
             }
            },
            "type": "scatter3d"
           }
          ],
          "scattercarpet": [
           {
            "marker": {
             "colorbar": {
              "outlinewidth": 0,
              "ticks": ""
             }
            },
            "type": "scattercarpet"
           }
          ],
          "scattergeo": [
           {
            "marker": {
             "colorbar": {
              "outlinewidth": 0,
              "ticks": ""
             }
            },
            "type": "scattergeo"
           }
          ],
          "scattergl": [
           {
            "marker": {
             "line": {
              "color": "#283442"
             }
            },
            "type": "scattergl"
           }
          ],
          "scattermap": [
           {
            "marker": {
             "colorbar": {
              "outlinewidth": 0,
              "ticks": ""
             }
            },
            "type": "scattermap"
           }
          ],
          "scattermapbox": [
           {
            "marker": {
             "colorbar": {
              "outlinewidth": 0,
              "ticks": ""
             }
            },
            "type": "scattermapbox"
           }
          ],
          "scatterpolar": [
           {
            "marker": {
             "colorbar": {
              "outlinewidth": 0,
              "ticks": ""
             }
            },
            "type": "scatterpolar"
           }
          ],
          "scatterpolargl": [
           {
            "marker": {
             "colorbar": {
              "outlinewidth": 0,
              "ticks": ""
             }
            },
            "type": "scatterpolargl"
           }
          ],
          "scatterternary": [
           {
            "marker": {
             "colorbar": {
              "outlinewidth": 0,
              "ticks": ""
             }
            },
            "type": "scatterternary"
           }
          ],
          "surface": [
           {
            "colorbar": {
             "outlinewidth": 0,
             "ticks": ""
            },
            "colorscale": [
             [
              0,
              "#0d0887"
             ],
             [
              0.1111111111111111,
              "#46039f"
             ],
             [
              0.2222222222222222,
              "#7201a8"
             ],
             [
              0.3333333333333333,
              "#9c179e"
             ],
             [
              0.4444444444444444,
              "#bd3786"
             ],
             [
              0.5555555555555556,
              "#d8576b"
             ],
             [
              0.6666666666666666,
              "#ed7953"
             ],
             [
              0.7777777777777778,
              "#fb9f3a"
             ],
             [
              0.8888888888888888,
              "#fdca26"
             ],
             [
              1,
              "#f0f921"
             ]
            ],
            "type": "surface"
           }
          ],
          "table": [
           {
            "cells": {
             "fill": {
              "color": "#506784"
             },
             "line": {
              "color": "rgb(17,17,17)"
             }
            },
            "header": {
             "fill": {
              "color": "#2a3f5f"
             },
             "line": {
              "color": "rgb(17,17,17)"
             }
            },
            "type": "table"
           }
          ]
         },
         "layout": {
          "annotationdefaults": {
           "arrowcolor": "#f2f5fa",
           "arrowhead": 0,
           "arrowwidth": 1
          },
          "autotypenumbers": "strict",
          "coloraxis": {
           "colorbar": {
            "outlinewidth": 0,
            "ticks": ""
           }
          },
          "colorscale": {
           "diverging": [
            [
             0,
             "#8e0152"
            ],
            [
             0.1,
             "#c51b7d"
            ],
            [
             0.2,
             "#de77ae"
            ],
            [
             0.3,
             "#f1b6da"
            ],
            [
             0.4,
             "#fde0ef"
            ],
            [
             0.5,
             "#f7f7f7"
            ],
            [
             0.6,
             "#e6f5d0"
            ],
            [
             0.7,
             "#b8e186"
            ],
            [
             0.8,
             "#7fbc41"
            ],
            [
             0.9,
             "#4d9221"
            ],
            [
             1,
             "#276419"
            ]
           ],
           "sequential": [
            [
             0,
             "#0d0887"
            ],
            [
             0.1111111111111111,
             "#46039f"
            ],
            [
             0.2222222222222222,
             "#7201a8"
            ],
            [
             0.3333333333333333,
             "#9c179e"
            ],
            [
             0.4444444444444444,
             "#bd3786"
            ],
            [
             0.5555555555555556,
             "#d8576b"
            ],
            [
             0.6666666666666666,
             "#ed7953"
            ],
            [
             0.7777777777777778,
             "#fb9f3a"
            ],
            [
             0.8888888888888888,
             "#fdca26"
            ],
            [
             1,
             "#f0f921"
            ]
           ],
           "sequentialminus": [
            [
             0,
             "#0d0887"
            ],
            [
             0.1111111111111111,
             "#46039f"
            ],
            [
             0.2222222222222222,
             "#7201a8"
            ],
            [
             0.3333333333333333,
             "#9c179e"
            ],
            [
             0.4444444444444444,
             "#bd3786"
            ],
            [
             0.5555555555555556,
             "#d8576b"
            ],
            [
             0.6666666666666666,
             "#ed7953"
            ],
            [
             0.7777777777777778,
             "#fb9f3a"
            ],
            [
             0.8888888888888888,
             "#fdca26"
            ],
            [
             1,
             "#f0f921"
            ]
           ]
          },
          "colorway": [
           "#636efa",
           "#EF553B",
           "#00cc96",
           "#ab63fa",
           "#FFA15A",
           "#19d3f3",
           "#FF6692",
           "#B6E880",
           "#FF97FF",
           "#FECB52"
          ],
          "font": {
           "color": "#f2f5fa"
          },
          "geo": {
           "bgcolor": "rgb(17,17,17)",
           "lakecolor": "rgb(17,17,17)",
           "landcolor": "rgb(17,17,17)",
           "showlakes": true,
           "showland": true,
           "subunitcolor": "#506784"
          },
          "hoverlabel": {
           "align": "left"
          },
          "hovermode": "closest",
          "mapbox": {
           "style": "dark"
          },
          "paper_bgcolor": "rgb(17,17,17)",
          "plot_bgcolor": "rgb(17,17,17)",
          "polar": {
           "angularaxis": {
            "gridcolor": "#506784",
            "linecolor": "#506784",
            "ticks": ""
           },
           "bgcolor": "rgb(17,17,17)",
           "radialaxis": {
            "gridcolor": "#506784",
            "linecolor": "#506784",
            "ticks": ""
           }
          },
          "scene": {
           "xaxis": {
            "backgroundcolor": "rgb(17,17,17)",
            "gridcolor": "#506784",
            "gridwidth": 2,
            "linecolor": "#506784",
            "showbackground": true,
            "ticks": "",
            "zerolinecolor": "#C8D4E3"
           },
           "yaxis": {
            "backgroundcolor": "rgb(17,17,17)",
            "gridcolor": "#506784",
            "gridwidth": 2,
            "linecolor": "#506784",
            "showbackground": true,
            "ticks": "",
            "zerolinecolor": "#C8D4E3"
           },
           "zaxis": {
            "backgroundcolor": "rgb(17,17,17)",
            "gridcolor": "#506784",
            "gridwidth": 2,
            "linecolor": "#506784",
            "showbackground": true,
            "ticks": "",
            "zerolinecolor": "#C8D4E3"
           }
          },
          "shapedefaults": {
           "line": {
            "color": "#f2f5fa"
           }
          },
          "sliderdefaults": {
           "bgcolor": "#C8D4E3",
           "bordercolor": "rgb(17,17,17)",
           "borderwidth": 1,
           "tickwidth": 0
          },
          "ternary": {
           "aaxis": {
            "gridcolor": "#506784",
            "linecolor": "#506784",
            "ticks": ""
           },
           "baxis": {
            "gridcolor": "#506784",
            "linecolor": "#506784",
            "ticks": ""
           },
           "bgcolor": "rgb(17,17,17)",
           "caxis": {
            "gridcolor": "#506784",
            "linecolor": "#506784",
            "ticks": ""
           }
          },
          "title": {
           "x": 0.05
          },
          "updatemenudefaults": {
           "bgcolor": "#506784",
           "borderwidth": 0
          },
          "xaxis": {
           "automargin": true,
           "gridcolor": "#283442",
           "linecolor": "#506784",
           "ticks": "",
           "title": {
            "standoff": 15
           },
           "zerolinecolor": "#283442",
           "zerolinewidth": 2
          },
          "yaxis": {
           "automargin": true,
           "gridcolor": "#283442",
           "linecolor": "#506784",
           "ticks": "",
           "title": {
            "standoff": 15
           },
           "zerolinecolor": "#283442",
           "zerolinewidth": 2
          }
         }
        },
        "title": {
         "font": {
          "size": 24
         },
         "text": "🎬 Simulation: Moon’s Orbit Around Earth",
         "x": 0.5
        },
        "updatemenus": [
         {
          "buttons": [
           {
            "args": [
             null,
             {
              "frame": {
               "duration": 500,
               "redraw": false
              },
              "fromcurrent": true,
              "mode": "immediate",
              "transition": {
               "duration": 500,
               "easing": "linear"
              }
             }
            ],
            "label": "&#9654;",
            "method": "animate"
           },
           {
            "args": [
             [
              null
             ],
             {
              "frame": {
               "duration": 0,
               "redraw": false
              },
              "fromcurrent": true,
              "mode": "immediate",
              "transition": {
               "duration": 0,
               "easing": "linear"
              }
             }
            ],
            "label": "&#9724;",
            "method": "animate"
           }
          ],
          "direction": "left",
          "pad": {
           "r": 10,
           "t": 70
          },
          "showactive": false,
          "type": "buttons",
          "x": 0.1,
          "xanchor": "right",
          "y": 0,
          "yanchor": "top"
         }
        ],
        "xaxis": {
         "anchor": "y",
         "domain": [
          0,
          1
         ],
         "range": [
          -500,
          500
         ],
         "title": {
          "text": "x"
         }
        },
        "yaxis": {
         "anchor": "x",
         "domain": [
          0,
          1
         ],
         "range": [
          -500,
          500
         ],
         "title": {
          "text": "y"
         }
        }
       }
      }
     },
     "metadata": {},
     "output_type": "display_data"
    },
    {
     "data": {
      "application/vnd.plotly.v1+json": {
       "config": {
        "plotlyServerURL": "https://plot.ly"
       },
       "data": [
        {
         "hovertemplate": "r^3=%{x}<br>T^2=%{y}<br>Body=%{text}<extra></extra>",
         "legendgroup": "",
         "marker": {
          "color": "#F1C40F",
          "symbol": "circle"
         },
         "mode": "markers+text",
         "name": "",
         "orientation": "v",
         "showlegend": false,
         "text": [
          "Moon",
          "Earth",
          "Mars",
          "Jupiter"
         ],
         "textposition": "top center",
         "type": "scatter",
         "x": {
          "bdata": "Ey9vePV9R0Xui1x8U6LkRmptrLDHPAJHEFrctZ+3Vkc=",
          "dtype": "f8"
         },
         "xaxis": "x",
         "y": {
          "bdata": "AAAAURBFlEIAIPD+/k0MQwCANK63CClDAMRBJtIef0M=",
          "dtype": "f8"
         },
         "yaxis": "y"
        }
       ],
       "layout": {
        "font": {
         "family": "Arial",
         "size": 16
        },
        "legend": {
         "tracegroupgap": 0
        },
        "showlegend": false,
        "template": {
         "data": {
          "bar": [
           {
            "error_x": {
             "color": "#2a3f5f"
            },
            "error_y": {
             "color": "#2a3f5f"
            },
            "marker": {
             "line": {
              "color": "white",
              "width": 0.5
             },
             "pattern": {
              "fillmode": "overlay",
              "size": 10,
              "solidity": 0.2
             }
            },
            "type": "bar"
           }
          ],
          "barpolar": [
           {
            "marker": {
             "line": {
              "color": "white",
              "width": 0.5
             },
             "pattern": {
              "fillmode": "overlay",
              "size": 10,
              "solidity": 0.2
             }
            },
            "type": "barpolar"
           }
          ],
          "carpet": [
           {
            "aaxis": {
             "endlinecolor": "#2a3f5f",
             "gridcolor": "#C8D4E3",
             "linecolor": "#C8D4E3",
             "minorgridcolor": "#C8D4E3",
             "startlinecolor": "#2a3f5f"
            },
            "baxis": {
             "endlinecolor": "#2a3f5f",
             "gridcolor": "#C8D4E3",
             "linecolor": "#C8D4E3",
             "minorgridcolor": "#C8D4E3",
             "startlinecolor": "#2a3f5f"
            },
            "type": "carpet"
           }
          ],
          "choropleth": [
           {
            "colorbar": {
             "outlinewidth": 0,
             "ticks": ""
            },
            "type": "choropleth"
           }
          ],
          "contour": [
           {
            "colorbar": {
             "outlinewidth": 0,
             "ticks": ""
            },
            "colorscale": [
             [
              0,
              "#0d0887"
             ],
             [
              0.1111111111111111,
              "#46039f"
             ],
             [
              0.2222222222222222,
              "#7201a8"
             ],
             [
              0.3333333333333333,
              "#9c179e"
             ],
             [
              0.4444444444444444,
              "#bd3786"
             ],
             [
              0.5555555555555556,
              "#d8576b"
             ],
             [
              0.6666666666666666,
              "#ed7953"
             ],
             [
              0.7777777777777778,
              "#fb9f3a"
             ],
             [
              0.8888888888888888,
              "#fdca26"
             ],
             [
              1,
              "#f0f921"
             ]
            ],
            "type": "contour"
           }
          ],
          "contourcarpet": [
           {
            "colorbar": {
             "outlinewidth": 0,
             "ticks": ""
            },
            "type": "contourcarpet"
           }
          ],
          "heatmap": [
           {
            "colorbar": {
             "outlinewidth": 0,
             "ticks": ""
            },
            "colorscale": [
             [
              0,
              "#0d0887"
             ],
             [
              0.1111111111111111,
              "#46039f"
             ],
             [
              0.2222222222222222,
              "#7201a8"
             ],
             [
              0.3333333333333333,
              "#9c179e"
             ],
             [
              0.4444444444444444,
              "#bd3786"
             ],
             [
              0.5555555555555556,
              "#d8576b"
             ],
             [
              0.6666666666666666,
              "#ed7953"
             ],
             [
              0.7777777777777778,
              "#fb9f3a"
             ],
             [
              0.8888888888888888,
              "#fdca26"
             ],
             [
              1,
              "#f0f921"
             ]
            ],
            "type": "heatmap"
           }
          ],
          "histogram": [
           {
            "marker": {
             "pattern": {
              "fillmode": "overlay",
              "size": 10,
              "solidity": 0.2
             }
            },
            "type": "histogram"
           }
          ],
          "histogram2d": [
           {
            "colorbar": {
             "outlinewidth": 0,
             "ticks": ""
            },
            "colorscale": [
             [
              0,
              "#0d0887"
             ],
             [
              0.1111111111111111,
              "#46039f"
             ],
             [
              0.2222222222222222,
              "#7201a8"
             ],
             [
              0.3333333333333333,
              "#9c179e"
             ],
             [
              0.4444444444444444,
              "#bd3786"
             ],
             [
              0.5555555555555556,
              "#d8576b"
             ],
             [
              0.6666666666666666,
              "#ed7953"
             ],
             [
              0.7777777777777778,
              "#fb9f3a"
             ],
             [
              0.8888888888888888,
              "#fdca26"
             ],
             [
              1,
              "#f0f921"
             ]
            ],
            "type": "histogram2d"
           }
          ],
          "histogram2dcontour": [
           {
            "colorbar": {
             "outlinewidth": 0,
             "ticks": ""
            },
            "colorscale": [
             [
              0,
              "#0d0887"
             ],
             [
              0.1111111111111111,
              "#46039f"
             ],
             [
              0.2222222222222222,
              "#7201a8"
             ],
             [
              0.3333333333333333,
              "#9c179e"
             ],
             [
              0.4444444444444444,
              "#bd3786"
             ],
             [
              0.5555555555555556,
              "#d8576b"
             ],
             [
              0.6666666666666666,
              "#ed7953"
             ],
             [
              0.7777777777777778,
              "#fb9f3a"
             ],
             [
              0.8888888888888888,
              "#fdca26"
             ],
             [
              1,
              "#f0f921"
             ]
            ],
            "type": "histogram2dcontour"
           }
          ],
          "mesh3d": [
           {
            "colorbar": {
             "outlinewidth": 0,
             "ticks": ""
            },
            "type": "mesh3d"
           }
          ],
          "parcoords": [
           {
            "line": {
             "colorbar": {
              "outlinewidth": 0,
              "ticks": ""
             }
            },
            "type": "parcoords"
           }
          ],
          "pie": [
           {
            "automargin": true,
            "type": "pie"
           }
          ],
          "scatter": [
           {
            "fillpattern": {
             "fillmode": "overlay",
             "size": 10,
             "solidity": 0.2
            },
            "type": "scatter"
           }
          ],
          "scatter3d": [
           {
            "line": {
             "colorbar": {
              "outlinewidth": 0,
              "ticks": ""
             }
            },
            "marker": {
             "colorbar": {
              "outlinewidth": 0,
              "ticks": ""
             }
            },
            "type": "scatter3d"
           }
          ],
          "scattercarpet": [
           {
            "marker": {
             "colorbar": {
              "outlinewidth": 0,
              "ticks": ""
             }
            },
            "type": "scattercarpet"
           }
          ],
          "scattergeo": [
           {
            "marker": {
             "colorbar": {
              "outlinewidth": 0,
              "ticks": ""
             }
            },
            "type": "scattergeo"
           }
          ],
          "scattergl": [
           {
            "marker": {
             "colorbar": {
              "outlinewidth": 0,
              "ticks": ""
             }
            },
            "type": "scattergl"
           }
          ],
          "scattermap": [
           {
            "marker": {
             "colorbar": {
              "outlinewidth": 0,
              "ticks": ""
             }
            },
            "type": "scattermap"
           }
          ],
          "scattermapbox": [
           {
            "marker": {
             "colorbar": {
              "outlinewidth": 0,
              "ticks": ""
             }
            },
            "type": "scattermapbox"
           }
          ],
          "scatterpolar": [
           {
            "marker": {
             "colorbar": {
              "outlinewidth": 0,
              "ticks": ""
             }
            },
            "type": "scatterpolar"
           }
          ],
          "scatterpolargl": [
           {
            "marker": {
             "colorbar": {
              "outlinewidth": 0,
              "ticks": ""
             }
            },
            "type": "scatterpolargl"
           }
          ],
          "scatterternary": [
           {
            "marker": {
             "colorbar": {
              "outlinewidth": 0,
              "ticks": ""
             }
            },
            "type": "scatterternary"
           }
          ],
          "surface": [
           {
            "colorbar": {
             "outlinewidth": 0,
             "ticks": ""
            },
            "colorscale": [
             [
              0,
              "#0d0887"
             ],
             [
              0.1111111111111111,
              "#46039f"
             ],
             [
              0.2222222222222222,
              "#7201a8"
             ],
             [
              0.3333333333333333,
              "#9c179e"
             ],
             [
              0.4444444444444444,
              "#bd3786"
             ],
             [
              0.5555555555555556,
              "#d8576b"
             ],
             [
              0.6666666666666666,
              "#ed7953"
             ],
             [
              0.7777777777777778,
              "#fb9f3a"
             ],
             [
              0.8888888888888888,
              "#fdca26"
             ],
             [
              1,
              "#f0f921"
             ]
            ],
            "type": "surface"
           }
          ],
          "table": [
           {
            "cells": {
             "fill": {
              "color": "#EBF0F8"
             },
             "line": {
              "color": "white"
             }
            },
            "header": {
             "fill": {
              "color": "#C8D4E3"
             },
             "line": {
              "color": "white"
             }
            },
            "type": "table"
           }
          ]
         },
         "layout": {
          "annotationdefaults": {
           "arrowcolor": "#2a3f5f",
           "arrowhead": 0,
           "arrowwidth": 1
          },
          "autotypenumbers": "strict",
          "coloraxis": {
           "colorbar": {
            "outlinewidth": 0,
            "ticks": ""
           }
          },
          "colorscale": {
           "diverging": [
            [
             0,
             "#8e0152"
            ],
            [
             0.1,
             "#c51b7d"
            ],
            [
             0.2,
             "#de77ae"
            ],
            [
             0.3,
             "#f1b6da"
            ],
            [
             0.4,
             "#fde0ef"
            ],
            [
             0.5,
             "#f7f7f7"
            ],
            [
             0.6,
             "#e6f5d0"
            ],
            [
             0.7,
             "#b8e186"
            ],
            [
             0.8,
             "#7fbc41"
            ],
            [
             0.9,
             "#4d9221"
            ],
            [
             1,
             "#276419"
            ]
           ],
           "sequential": [
            [
             0,
             "#0d0887"
            ],
            [
             0.1111111111111111,
             "#46039f"
            ],
            [
             0.2222222222222222,
             "#7201a8"
            ],
            [
             0.3333333333333333,
             "#9c179e"
            ],
            [
             0.4444444444444444,
             "#bd3786"
            ],
            [
             0.5555555555555556,
             "#d8576b"
            ],
            [
             0.6666666666666666,
             "#ed7953"
            ],
            [
             0.7777777777777778,
             "#fb9f3a"
            ],
            [
             0.8888888888888888,
             "#fdca26"
            ],
            [
             1,
             "#f0f921"
            ]
           ],
           "sequentialminus": [
            [
             0,
             "#0d0887"
            ],
            [
             0.1111111111111111,
             "#46039f"
            ],
            [
             0.2222222222222222,
             "#7201a8"
            ],
            [
             0.3333333333333333,
             "#9c179e"
            ],
            [
             0.4444444444444444,
             "#bd3786"
            ],
            [
             0.5555555555555556,
             "#d8576b"
            ],
            [
             0.6666666666666666,
             "#ed7953"
            ],
            [
             0.7777777777777778,
             "#fb9f3a"
            ],
            [
             0.8888888888888888,
             "#fdca26"
            ],
            [
             1,
             "#f0f921"
            ]
           ]
          },
          "colorway": [
           "#636efa",
           "#EF553B",
           "#00cc96",
           "#ab63fa",
           "#FFA15A",
           "#19d3f3",
           "#FF6692",
           "#B6E880",
           "#FF97FF",
           "#FECB52"
          ],
          "font": {
           "color": "#2a3f5f"
          },
          "geo": {
           "bgcolor": "white",
           "lakecolor": "white",
           "landcolor": "white",
           "showlakes": true,
           "showland": true,
           "subunitcolor": "#C8D4E3"
          },
          "hoverlabel": {
           "align": "left"
          },
          "hovermode": "closest",
          "mapbox": {
           "style": "light"
          },
          "paper_bgcolor": "white",
          "plot_bgcolor": "white",
          "polar": {
           "angularaxis": {
            "gridcolor": "#EBF0F8",
            "linecolor": "#EBF0F8",
            "ticks": ""
           },
           "bgcolor": "white",
           "radialaxis": {
            "gridcolor": "#EBF0F8",
            "linecolor": "#EBF0F8",
            "ticks": ""
           }
          },
          "scene": {
           "xaxis": {
            "backgroundcolor": "white",
            "gridcolor": "#DFE8F3",
            "gridwidth": 2,
            "linecolor": "#EBF0F8",
            "showbackground": true,
            "ticks": "",
            "zerolinecolor": "#EBF0F8"
           },
           "yaxis": {
            "backgroundcolor": "white",
            "gridcolor": "#DFE8F3",
            "gridwidth": 2,
            "linecolor": "#EBF0F8",
            "showbackground": true,
            "ticks": "",
            "zerolinecolor": "#EBF0F8"
           },
           "zaxis": {
            "backgroundcolor": "white",
            "gridcolor": "#DFE8F3",
            "gridwidth": 2,
            "linecolor": "#EBF0F8",
            "showbackground": true,
            "ticks": "",
            "zerolinecolor": "#EBF0F8"
           }
          },
          "shapedefaults": {
           "line": {
            "color": "#2a3f5f"
           }
          },
          "ternary": {
           "aaxis": {
            "gridcolor": "#DFE8F3",
            "linecolor": "#A2B1C6",
            "ticks": ""
           },
           "baxis": {
            "gridcolor": "#DFE8F3",
            "linecolor": "#A2B1C6",
            "ticks": ""
           },
           "bgcolor": "white",
           "caxis": {
            "gridcolor": "#DFE8F3",
            "linecolor": "#A2B1C6",
            "ticks": ""
           }
          },
          "title": {
           "x": 0.05
          },
          "xaxis": {
           "automargin": true,
           "gridcolor": "#EBF0F8",
           "linecolor": "#EBF0F8",
           "ticks": "",
           "title": {
            "standoff": 15
           },
           "zerolinecolor": "#EBF0F8",
           "zerolinewidth": 2
          },
          "yaxis": {
           "automargin": true,
           "gridcolor": "#EBF0F8",
           "linecolor": "#EBF0F8",
           "ticks": "",
           "title": {
            "standoff": 15
           },
           "zerolinecolor": "#EBF0F8",
           "zerolinewidth": 2
          }
         }
        },
        "title": {
         "font": {
          "size": 24
         },
         "text": "🌟 Verification: T² vs r³ Relationship",
         "x": 0.5
        },
        "xaxis": {
         "anchor": "y",
         "domain": [
          0,
          1
         ],
         "title": {
          "text": "r³ (m³)"
         }
        },
        "yaxis": {
         "anchor": "x",
         "domain": [
          0,
          1
         ],
         "title": {
          "text": "T² (s²)"
         }
        }
       }
      }
     },
     "metadata": {},
     "output_type": "display_data"
    }
   ],
   "source": [
    "# Cell 1: Dependency Check\n",
    "try:\n",
    "    import numpy\n",
    "    import pandas\n",
    "    import plotly\n",
    "    from IPython.display import display, HTML\n",
    "    display(HTML(\"<h3 style='color: #2ECC71;'>✅ All Required Libraries Installed</h3>\"))\n",
    "except ImportError as e:\n",
    "    display(HTML(\"<h3 style='color: #FF5733;'>❌ Missing Library: \" + str(e) + \"</h3>\"))\n",
    "    display(HTML(\"<p>Please install the missing library using: <code>pip install \" + str(e).split(\"'\")[1] + \"</code></p>\"))\n",
    "\n",
    "# Cell 2: Setup with Style\n",
    "import numpy as np\n",
    "import pandas as pd\n",
    "import plotly.express as px\n",
    "import plotly.graph_objects as go\n",
    "from IPython.display import display, HTML\n",
    "\n",
    "display(HTML(\"<h2 style='color: #FF5733; text-align: center;'>✨ Libraries Initialized for Analysis ✨</h2>\"))\n",
    "\n",
    "# Constants\n",
    "G = 6.67430e-11  # Gravitational constant (m^3 kg^-1 s^-2)\n",
    "M_earth = 5.972e24  # Earth mass (kg)\n",
    "M_sun = 1.989e30  # Sun mass (kg)\n",
    "\n",
    "# Cell 3: Real-World Data (Updated for Full Visibility)\n",
    "data = pd.DataFrame({\n",
    "    'Body': ['Moon', 'Earth', 'Mars', 'Jupiter'],\n",
    "    'Central Mass (kg)': [M_earth, M_sun, M_sun, M_sun],\n",
    "    'Radius (m)': [384400000, 149.6e9, 227.9e9, 778.5e9],  # Orbital radius\n",
    "    'Period (s)': [27.32*86400, 365.25*86400, 687*86400, 4333*86400]  # Period in seconds\n",
    "})\n",
    "\n",
    "# Format the numbers for readability and ensure full visibility\n",
    "styled_data = data.style.format({\n",
    "    'Central Mass (kg)': '{:,.0f}',  # Commas, no decimals\n",
    "    'Radius (m)': '{:,.0f}',        # Commas, no decimals\n",
    "    'Period (s)': '{:,.0f}'         # Commas, no decimals\n",
    "}).set_properties(**{\n",
    "    'background-color': '#D5F5E3',\n",
    "    'border': '2px solid #28B463',\n",
    "    'font-size': '14px',\n",
    "    'text-align': 'center',\n",
    "    'white-space': 'nowrap',  # Prevent text wrapping\n",
    "    'padding': '10px'         # Add padding for better spacing\n",
    "}).set_table_styles([\n",
    "    {\n",
    "        'selector': 'th',\n",
    "        'props': [\n",
    "            ('font-size', '14px'),\n",
    "            ('text-align', 'center'),\n",
    "            ('white-space', 'nowrap'),\n",
    "            ('padding', '10px'),\n",
    "            ('min-width', '150px')  # Ensure columns are wide enough\n",
    "        ]\n",
    "    },\n",
    "    {\n",
    "        'selector': 'td',\n",
    "        'props': [\n",
    "            ('min-width', '150px'),  # Ensure cells are wide enough\n",
    "            ('max-width', '300px'),  # Prevent overly wide cells\n",
    "            ('overflow', 'visible')  # Ensure content is not hidden\n",
    "        ]\n",
    "    }\n",
    "])\n",
    "\n",
    "display(HTML(\"<h3 style='color: #2ECC71;'>🌍 Orbital Parameters</h3>\"))\n",
    "display(styled_data)\n",
    "\n",
    "# Cell 4: Animated Circular Orbit\n",
    "theta = np.linspace(0, 2*np.pi, 100)\n",
    "r = data['Radius (m)'][0]  # Moon’s radius\n",
    "x = r * np.cos(theta) / 1e6  # Scale for visualization (km)\n",
    "y = r * np.sin(theta) / 1e6\n",
    "\n",
    "orbit_data = pd.DataFrame({'x': x, 'y': y, 'frame': np.arange(100)})\n",
    "fig = px.scatter(orbit_data, x='x', y='y', animation_frame='frame',\n",
    "                 range_x=[-500, 500], range_y=[-500, 500],\n",
    "                 title=\"🎬 Simulation: Moon’s Orbit Around Earth\",\n",
    "                 color_discrete_sequence=['#FF69B4'],\n",
    "                 template='plotly_dark')\n",
    "\n",
    "fig.add_trace(go.Scatter(x=[0], y=[0], mode='markers', marker=dict(size=20, color='#3498DB'), name='Earth'))\n",
    "fig.update_layout(title_font_size=24, title_x=0.5, font=dict(family=\"Arial\", size=16))\n",
    "fig.show()\n",
    "\n",
    "# Cell 5: Verify T^2 vs r^3\n",
    "data['T^2'] = data['Period (s)']**2\n",
    "data['r^3'] = data['Radius (m)']**3\n",
    "fig2 = px.scatter(data, x='r^3', y='T^2', text='Body', size_max=60,\n",
    "                  title=\"🌟 Verification: T² vs r³ Relationship\",\n",
    "                  color_discrete_sequence=['#F1C40F'],\n",
    "                  template='plotly_white')\n",
    "\n",
    "fig2.update_traces(textposition='top center')\n",
    "fig2.update_layout(showlegend=False, title_font_size=24, title_x=0.5,\n",
    "                   xaxis_title=\"r³ (m³)\", yaxis_title=\"T² (s²)\",\n",
    "                   font=dict(family=\"Arial\", size=16))\n",
    "fig2.show()\n",
    "\n"
   ]
  }
 ],
 "metadata": {
  "kernelspec": {
   "display_name": "Python 3",
   "language": "python",
   "name": "python3"
  },
  "language_info": {
   "codemirror_mode": {
    "name": "ipython",
    "version": 3
   },
   "file_extension": ".py",
   "mimetype": "text/x-python",
   "name": "python",
   "nbconvert_exporter": "python",
   "pygments_lexer": "ipython3",
   "version": "3.13.2"
  }
 },
 "nbformat": 4,
 "nbformat_minor": 2
}
